{
 "cells": [
  {
   "cell_type": "markdown",
   "source": [],
   "metadata": {
    "collapsed": false
   }
  },
  {
   "cell_type": "code",
   "execution_count": 1,
   "metadata": {
    "collapsed": true
   },
   "outputs": [],
   "source": [
    "## ライブラリのインポート\n",
    "import matplotlib.pyplot as plt\n",
    "import japanize_matplotlib\n",
    "import numpy as np\n",
    "import time\n",
    "import random\n",
    "from qulacs import QuantumState\n",
    "from qulacs.state import inner_product\n",
    "from qulacs import QuantumCircuit\n",
    "from qulacs.gate import to_matrix_gate\n",
    "from qulacs import QuantumState\n",
    "from qulacs.gate import Identity, X,Y,Z #パウリ演算子\n",
    "from qulacs.gate import H\n",
    "from qulacs.gate import RX,RY,RZ #パウリ演算子についての回転演算\n",
    "\n",
    "from fractions import Fraction"
   ]
  },
  {
   "cell_type": "code",
   "execution_count": 2,
   "outputs": [],
   "source": [
    "global_nqubits = 5"
   ],
   "metadata": {
    "collapsed": false
   }
  },
  {
   "cell_type": "markdown",
   "source": [
    "## 理想的な回路作成"
   ],
   "metadata": {
    "collapsed": false
   }
  },
  {
   "cell_type": "code",
   "execution_count": 3,
   "outputs": [],
   "source": [
    "# 係数の絶対値の分布をプロットする関数\n",
    "def show_distribution(state, nqubits):\n",
    "    plt.bar([i for i in range(pow(2, nqubits))], abs(state.get_vector()))\n",
    "    plt.xlabel('$2^5$個のデータ')\n",
    "    plt.ylabel('|11...11>の確率振幅')\n",
    "    plt.ylim(0, 1)\n",
    "    plt.show()"
   ],
   "metadata": {
    "collapsed": false
   }
  },
  {
   "cell_type": "markdown",
   "source": [
    "### 動作の確認\n",
    "まずは5量子ビットのアルゴリズムを実装し、動作を確認する。\n",
    "\n",
    "初期状態$|0 \\cdots 0\\rangle$を作成"
   ],
   "metadata": {
    "collapsed": false
   }
  },
  {
   "cell_type": "code",
   "execution_count": 4,
   "outputs": [],
   "source": [
    "nqubits = 5\n",
    "state = QuantumState(nqubits)\n",
    "state.set_zero_state()"
   ],
   "metadata": {
    "collapsed": false
   }
  },
  {
   "cell_type": "markdown",
   "source": [
    "次にアダマールゲートを作成する\n",
    "$$\n",
    "    H = \\frac{1}{\\sqrt(2)}(|0\\rangle \\langle 0| + |1\\rangle \\langle 0| + |0\\rangle \\langle 1| + |1\\rangle \\langle 1|)\n",
    "$$"
   ],
   "metadata": {
    "collapsed": false
   }
  },
  {
   "cell_type": "code",
   "execution_count": 5,
   "outputs": [],
   "source": [
    "\n",
    "def make_Hadamard(nqubits):\n",
    "    Hadamard = QuantumCircuit(nqubits)\n",
    "    for i in range(nqubits):\n",
    "        Hadamard.add_gate(H(i))\n",
    "    return  Hadamard\n"
   ],
   "metadata": {
    "collapsed": false
   }
  },
  {
   "cell_type": "markdown",
   "source": [
    "このアダマールゲートを初期状態$|0 \\cdots 0\\rangle$に作用させる。\n",
    "\n",
    "$$\n",
    "|s\\rangle = (H \\otimes \\cdots \\otimes H)|0 \\cdots 0\\rangle \\\\\n",
    "\n",
    "= \\frac{1}{(\\sqrt{2})^n}(| 0 \\rangle + | 1 \\rangle) \\otimes \\cdots \\otimes (| 0 \\rangle + | 1 \\rangle)\\\\\n",
    "\n",
    "= \\frac{1}{(\\sqrt{2})^n} (|00 \\cdots 00 \\rangle + | 00 \\cdots 01 \\rangle + \\cdots + | 11 \\cdots 10\\rangle + |11 \\cdots 11 \\rangle) \\\\\n",
    "\n",
    "|s\\rangle = \\frac{1}{(\\sqrt{2})^n} \\sum_{x = 0}^{2^n - 1} |x\\rangle\n",
    "$$"
   ],
   "metadata": {
    "collapsed": false
   }
  },
  {
   "cell_type": "code",
   "execution_count": 6,
   "outputs": [
    {
     "data": {
      "text/plain": "<Figure size 432x288 with 1 Axes>",
      "image/png": "[encoded data removed]"
     },
     "metadata": {
      "needs_background": "light"
     },
     "output_type": "display_data"
    }
   ],
   "source": [
    "Hadamard = make_Hadamard(nqubits)\n",
    "Hadamard.update_quantum_state(state)\n",
    "\n",
    "show_distribution(state, nqubits)"
   ],
   "metadata": {
    "collapsed": false
   }
  },
  {
   "cell_type": "markdown",
   "source": [
    "次に解に対する反転操作をする、オラクル$U_w$を作成する。\n",
    "\n",
    "入力$|x\\rangle$に対して$x$が解なら、$-1$を掛けて位相を反転し、解でないなら$1$を掛ける。\n"
   ],
   "metadata": {
    "collapsed": false
   }
  },
  {
   "cell_type": "markdown",
   "source": [
    "$$\n",
    "\\begin{cases}\n",
    "    U_w|x\\rangle = |x\\rangle (x \\neq w) \\\\\n",
    "    U_w|w\\rangle = -|w\\rangle\n",
    "  \\end{cases}\n",
    "$$\n",
    "\n",
    "$$\n",
    "U_w = I - 2 \\sum_{w \\in \\text{解}} |w\\rangle \\langle w|\n",
    "$$"
   ],
   "metadata": {
    "collapsed": false
   }
  },
  {
   "cell_type": "code",
   "execution_count": 7,
   "outputs": [],
   "source": [
    "# オラクルU_wの作成\n",
    "def make_U_w(nqubits):\n",
    "    U_w = QuantumCircuit(nqubits)\n",
    "    CnZ = to_matrix_gate(Z(nqubits-1))\n",
    "    # i-th qubitが全て1の場合だけゲートを作用\n",
    "    for i in range(nqubits-1):\n",
    "        control_index = i\n",
    "        control_with_value = 1\n",
    "        CnZ.add_control_qubit(control_index, control_with_value)\n",
    "    U_w.add_gate(CnZ)\n",
    "    return U_w"
   ],
   "metadata": {
    "collapsed": false
   }
  },
  {
   "cell_type": "markdown",
   "source": [
    "これを作用させると$|s\\rangle$\n",
    "$$\n",
    "U_w |s\\rangle = \\frac{1}{(\\sqrt{2})^n} \\sum_{x = 0, x \\neq w}^{2^n - 1} U_w |x\\rangle + \\frac{1}{(\\sqrt{2})^n} U_w |x\\rangle \\\\\n",
    "\n",
    "= \\frac{1}{(\\sqrt{2})^n} \\sum_{x = 0, x \\neq w}^{2^n - 1} |x\\rangle - \\frac{1}{(\\sqrt{2})^n}|w\\rangle \\\\\n",
    "\n",
    "= \\left( |s\\rangle - \\frac{1}{(\\sqrt{2})^n} |w\\rangle \\right) - \\frac{1}{(\\sqrt{2})^n} |w\\rangle \\\\\n",
    "\n",
    "U_w |s\\rangle = |s\\rangle - \\frac{2}{(\\sqrt{2})^n} |w\\rangle\n",
    "$$\n",
    "\n",
    "となる。"
   ],
   "metadata": {
    "collapsed": false
   }
  },
  {
   "cell_type": "code",
   "execution_count": 8,
   "outputs": [
    {
     "name": "stdout",
     "output_type": "stream",
     "text": [
      "[ 0.1767767+0.j  0.1767767+0.j  0.1767767+0.j  0.1767767+0.j\n",
      "  0.1767767+0.j  0.1767767+0.j  0.1767767+0.j  0.1767767+0.j\n",
      "  0.1767767+0.j  0.1767767+0.j  0.1767767+0.j  0.1767767+0.j\n",
      "  0.1767767+0.j  0.1767767+0.j  0.1767767+0.j  0.1767767+0.j\n",
      "  0.1767767+0.j  0.1767767+0.j  0.1767767+0.j  0.1767767+0.j\n",
      "  0.1767767+0.j  0.1767767+0.j  0.1767767+0.j  0.1767767+0.j\n",
      "  0.1767767+0.j  0.1767767+0.j  0.1767767+0.j  0.1767767+0.j\n",
      "  0.1767767+0.j  0.1767767+0.j  0.1767767+0.j -0.1767767+0.j]\n"
     ]
    }
   ],
   "source": [
    "fuga = state.copy()\n",
    "U_w = make_U_w(nqubits)\n",
    "U_w.update_quantum_state(fuga)\n",
    "print(fuga.get_vector())"
   ],
   "metadata": {
    "collapsed": false
   }
  },
  {
   "cell_type": "markdown",
   "source": [
    "最後に$|s\\rangle$を対象軸にした反転操作$U_s$を定義する\n",
    "\n",
    "$$\n",
    "U_s = 2|s\\rangle \\langle s| - I = H^{\\otimes n}(2 |0 \\cdots 0\\rangle \\langle 0 \\cdots 0| - I)H^{\\otimes n}\n",
    "$$\n",
    "\n",
    "$$\n",
    "\\begin{cases}\n",
    "    U_s |x\\rangle = 2\\langle s|x|s\\rangle - |x\\rangle = \\frac{2}{\\sqrt{2^n}} |x\\rangle \\\\\n",
    "    U_s |s\\rangle = 2\\langle s|s|s\\rangle - |s\\rangle = |s\\rangle\n",
    " \\end{cases}\n",
    "$$"
   ],
   "metadata": {
    "collapsed": false
   }
  },
  {
   "cell_type": "code",
   "execution_count": 9,
   "outputs": [],
   "source": [
    "# 反転U_sを作る\n",
    "def make_U_s(nqubits):\n",
    "    U_s = QuantumCircuit(nqubits)\n",
    "    for i in range(nqubits):\n",
    "        U_s.add_gate(H(i))\n",
    "\n",
    "    ## 2|0><0| - I の実装\n",
    "    U_s.add_gate(to_matrix_gate(RZ(nqubits-1, 2*np.pi))) ## まず、位相(-1)を全ての状態に付与する。ゲート行列はarrary([[-1,0],[0,-1]])\n",
    "    U_s.add_gate( X(nqubits-1) )\n",
    "    ## 全てのi-th qubitが0の場合だけZゲートを作用させる\n",
    "    CnZ = to_matrix_gate(Z(nqubits-1))\n",
    "    for i in range(nqubits-1):\n",
    "        control_index = i\n",
    "        control_with_value = 0\n",
    "        CnZ.add_control_qubit(control_index, control_with_value)\n",
    "    U_s.add_gate( CnZ )\n",
    "    U_s.add_gate( X(nqubits-1) )\n",
    "\n",
    "    for i in range(nqubits):\n",
    "        U_s.add_gate(H(i))\n",
    "\n",
    "    return U_s"
   ],
   "metadata": {
    "collapsed": false
   }
  },
  {
   "cell_type": "code",
   "execution_count": 10,
   "outputs": [
    {
     "data": {
      "text/plain": "<Figure size 432x288 with 1 Axes>",
      "image/png": "[encoded data removed]"
     },
     "metadata": {
      "needs_background": "light"
     },
     "output_type": "display_data"
    }
   ],
   "source": [
    "## 初期状態の準備\n",
    "state = QuantumState(nqubits)\n",
    "state.set_zero_state()\n",
    "Hadamard.update_quantum_state(state)\n",
    "\n",
    "## U_s U_w を作用\n",
    "U_s = make_U_s(nqubits)\n",
    "U_w.update_quantum_state(state)\n",
    "U_s.update_quantum_state(state)\n",
    "show_distribution(state,nqubits)"
   ],
   "metadata": {
    "collapsed": false
   }
  },
  {
   "cell_type": "code",
   "execution_count": 11,
   "outputs": [
    {
     "data": {
      "text/plain": "<Figure size 432x288 with 1 Axes>",
      "image/png": "[encoded data removed]"
     },
     "metadata": {
      "needs_background": "light"
     },
     "output_type": "display_data"
    },
    {
     "name": "stdout",
     "output_type": "stream",
     "text": [
      "0.5082329989778305\n"
     ]
    },
    {
     "data": {
      "text/plain": "<Figure size 432x288 with 1 Axes>",
      "image/png": "[encoded data removed]"
     },
     "metadata": {
      "needs_background": "light"
     },
     "output_type": "display_data"
    },
    {
     "name": "stdout",
     "output_type": "stream",
     "text": [
      "0.7761601777867947\n"
     ]
    },
    {
     "data": {
      "text/plain": "<Figure size 432x288 with 1 Axes>",
      "image/png": "[encoded data removed]"
     },
     "metadata": {
      "needs_background": "light"
     },
     "output_type": "display_data"
    },
    {
     "name": "stdout",
     "output_type": "stream",
     "text": [
      "0.9470673343724091\n"
     ]
    },
    {
     "data": {
      "text/plain": "<Figure size 432x288 with 1 Axes>",
      "image/png": "[encoded data removed]"
     },
     "metadata": {
      "needs_background": "light"
     },
     "output_type": "display_data"
    },
    {
     "name": "stdout",
     "output_type": "stream",
     "text": [
      "0.9995910741614723\n"
     ]
    }
   ],
   "source": [
    "# 何回か繰り返す\n",
    "## 内積を評価するために 解状態 |1...1> を作っておく\n",
    "target_state = QuantumState(nqubits)\n",
    "target_state.set_computational_basis(2**nqubits-1) ## 2**n_qubits-1 は 2進数で 1...1\n",
    "\n",
    "## グローバーのアルゴリズムの実行\n",
    "state = QuantumState(nqubits)\n",
    "state.set_zero_state()\n",
    "\n",
    "Hadamard.update_quantum_state(state)\n",
    "\n",
    "avg_result = []\n",
    "for i in range(4):\n",
    "    U_w.update_quantum_state(state)\n",
    "    U_s.update_quantum_state(state)\n",
    "    show_distribution(state,nqubits)\n",
    "    fuga = np.linalg.norm(inner_product(state, target_state))\n",
    "    avg_result.append(fuga)\n",
    "    print(fuga)"
   ],
   "metadata": {
    "collapsed": false
   }
  },
  {
   "cell_type": "code",
   "execution_count": 12,
   "outputs": [
    {
     "name": "stdout",
     "output_type": "stream",
     "text": [
      "0.5082329989778305\n",
      "0.7761601777867947\n",
      "0.9470673343724091\n",
      "0.9995910741614723\n",
      "0.9271659296803515\n",
      "0.738845043989187\n",
      "0.4581685277993745\n",
      "0.1202209456346408\n",
      "0.23275425473442243\n",
      "0.5566351732616823\n"
     ]
    },
    {
     "data": {
      "text/plain": "[<matplotlib.lines.Line2D at 0x12ff2c220>]"
     },
     "execution_count": 12,
     "metadata": {},
     "output_type": "execute_result"
    },
    {
     "data": {
      "text/plain": "<Figure size 432x288 with 1 Axes>",
      "image/png": "[encoded data removed]"
     },
     "metadata": {
      "needs_background": "light"
     },
     "output_type": "display_data"
    }
   ],
   "source": [
    "## 初期状態の準備\n",
    "state = QuantumState(nqubits)\n",
    "state.set_zero_state()\n",
    "Hadamard.update_quantum_state(state)\n",
    "\n",
    "avg_result = []\n",
    "times = 10\n",
    "for i in range(times):\n",
    "    U_w.update_quantum_state(state)\n",
    "    U_s.update_quantum_state(state)\n",
    "    fuga = np.linalg.norm(inner_product(state, target_state))\n",
    "    avg_result.append(fuga)\n",
    "    print(fuga)\n",
    "\n",
    "plt.xlabel('オラクルの試行回数k')\n",
    "plt.ylabel('|11...11>の確率振幅')\n",
    "plt.ylim(0, 1)\n",
    "plt.plot(avg_result)"
   ],
   "metadata": {
    "collapsed": false
   }
  },
  {
   "cell_type": "code",
   "execution_count": 13,
   "outputs": [],
   "source": [
    "# グローバーのアルゴリズム\n",
    "def grover(nqubits, operate_times):\n",
    "    state = QuantumState(nqubits)\n",
    "    state.set_zero_state()\n",
    "\n",
    "    # 内積を評価するために 解状態 |1...1> を作っておく\n",
    "    target_state = QuantumState(nqubits)\n",
    "    target_state.set_computational_basis(2 ** nqubits - 1) # 2**n_qubits-1 は 2進数で 1...1\n",
    "\n",
    "    # グローバーのアルゴリズムの実行\n",
    "    Hadamard = make_Hadamard(nqubits)\n",
    "    U_w = make_U_w(nqubits)\n",
    "    U_s = make_U_s(nqubits)\n",
    "\n",
    "    result = []\n",
    "\n",
    "    state = QuantumState(nqubits)\n",
    "    state.set_zero_state()\n",
    "    Hadamard.update_quantum_state(state)\n",
    "    for k in range(operate_times):\n",
    "        U_w.update_quantum_state(state)\n",
    "        U_s.update_quantum_state(state)\n",
    "        fuga = np.linalg.norm(inner_product(state, target_state))\n",
    "        result.append(fuga)\n",
    "        print(fuga)\n",
    "\n",
    "\n",
    "    max_k = np.argmax(result)\n",
    "    print(f'maximal probability {result[max_k]:5e} is obtained at k = {max_k + 1}')\n",
    "\n",
    "\n",
    "    plt.plot(result, \"o-\")\n",
    "    plt.xlabel('オラクルの試行回数k')\n",
    "    plt.ylabel('|11...11>の確率振幅')\n",
    "    plt.ylim(0, 1)\n",
    "    plt.show()"
   ],
   "metadata": {
    "collapsed": false
   }
  },
  {
   "cell_type": "code",
   "execution_count": 14,
   "outputs": [
    {
     "name": "stdout",
     "output_type": "stream",
     "text": [
      "0.5082329989778305\n",
      "0.7761601777867947\n",
      "0.9470673343724091\n",
      "0.9995910741614723\n",
      "0.9271659296803515\n",
      "0.738845043989187\n",
      "0.4581685277993745\n",
      "0.1202209456346408\n",
      "0.23275425473442243\n",
      "0.5566351732616823\n",
      "maximal probability 9.995911e-01 is obtained at k = 4\n"
     ]
    },
    {
     "data": {
      "text/plain": "<Figure size 432x288 with 1 Axes>",
      "image/png": "[encoded data removed]"
     },
     "metadata": {
      "needs_background": "light"
     },
     "output_type": "display_data"
    }
   ],
   "source": [
    "grover(5, 10)"
   ],
   "metadata": {
    "collapsed": false
   }
  },
  {
   "cell_type": "markdown",
   "source": [
    "## ノイズを入れてみる。\n",
    "http://docs.qulacs.org/ja/latest/guide/2.0_python_advanced.html#id37"
   ],
   "metadata": {
    "collapsed": false
   }
  },
  {
   "cell_type": "code",
   "execution_count": 15,
   "outputs": [],
   "source": [
    "from qulacs.gate import DephasingNoise\n",
    "from qulacs.gate import Probabilistic"
   ],
   "metadata": {
    "collapsed": false
   }
  },
  {
   "cell_type": "markdown",
   "source": [
    "[こちらを参考にして](https://docs.qulacs.org/ja/latest/guide/2.0_python_advanced.html?highlight=distribution#id39)、確率pでパウリ演算子Iを作用させる\n"
   ],
   "metadata": {
    "collapsed": false
   }
  },
  {
   "cell_type": "code",
   "execution_count": 16,
   "outputs": [],
   "source": [
    "def make_noisy_Hadamard(nqubits, dephasing_rate):\n",
    "    Hadamard = QuantumCircuit(nqubits)\n",
    "    # dphe_gate = DephasingNoise(0, dephasing_rate)\n",
    "    # distribution = [1 - dephasing_rate, dephasing_rate]\n",
    "    distribution = [1 - float(Fraction(f'{dephasing_rate}')), dephasing_rate]\n",
    "    float(Fraction('0.1'))\n",
    "    for i in range(nqubits):\n",
    "        gate_list = [H(i), Identity(i)]\n",
    "        gate = Probabilistic(distribution, gate_list)\n",
    "        # Hadamard.add_gate(H(i))\n",
    "        Hadamard.add_gate(gate)\n",
    "    return Hadamard"
   ],
   "metadata": {
    "collapsed": false
   }
  },
  {
   "cell_type": "code",
   "execution_count": 17,
   "outputs": [
    {
     "data": {
      "text/plain": "<Figure size 432x288 with 1 Axes>",
      "image/png": "[encoded data removed]"
     },
     "metadata": {
      "needs_background": "light"
     },
     "output_type": "display_data"
    },
    {
     "name": "stdout",
     "output_type": "stream",
     "text": [
      "[0.70710678+0.j 0.        +0.j 0.70710678+0.j 0.        +0.j]\n"
     ]
    }
   ],
   "source": [
    "nqubits = 2\n",
    "dephasing_rate = 0.5\n",
    "state = QuantumState(nqubits)\n",
    "state.set_zero_state()\n",
    "\n",
    "Hadamard = make_noisy_Hadamard(nqubits, dephasing_rate)\n",
    "Hadamard.update_quantum_state(state)\n",
    "\n",
    "show_distribution(state, nqubits)\n",
    "print(state.get_vector())"
   ],
   "metadata": {
    "collapsed": false
   }
  },
  {
   "cell_type": "code",
   "execution_count": 18,
   "outputs": [
    {
     "name": "stdout",
     "output_type": "stream",
     "text": [
      "[0.70710678+0.j 0.        +0.j 0.70710678+0.j 0.        +0.j]\n"
     ]
    }
   ],
   "source": [
    "fuga = state.copy()\n",
    "U_w = make_U_w(nqubits)\n",
    "U_w.update_quantum_state(fuga)\n",
    "print(fuga.get_vector())"
   ],
   "metadata": {
    "collapsed": false
   }
  },
  {
   "cell_type": "markdown",
   "source": [],
   "metadata": {
    "collapsed": false
   }
  },
  {
   "cell_type": "code",
   "execution_count": 19,
   "outputs": [
    {
     "data": {
      "text/plain": "<Figure size 432x288 with 1 Axes>",
      "image/png": "[encoded data removed]"
     },
     "metadata": {
      "needs_background": "light"
     },
     "output_type": "display_data"
    }
   ],
   "source": [
    "## 初期状態の準備\n",
    "state = QuantumState(nqubits)\n",
    "state.set_zero_state()\n",
    "Hadamard.update_quantum_state(state)\n",
    "\n",
    "## U_s U_w を作用\n",
    "U_s = make_U_s(nqubits)\n",
    "U_w.update_quantum_state(state)\n",
    "U_s.update_quantum_state(state)\n",
    "show_distribution(state,nqubits)"
   ],
   "metadata": {
    "collapsed": false
   }
  },
  {
   "cell_type": "code",
   "execution_count": 20,
   "outputs": [
    {
     "data": {
      "text/plain": "<Figure size 432x288 with 1 Axes>",
      "image/png": "[encoded data removed]"
     },
     "metadata": {
      "needs_background": "light"
     },
     "output_type": "display_data"
    },
    {
     "data": {
      "text/plain": "<Figure size 432x288 with 1 Axes>",
      "image/png": "[encoded data removed]"
     },
     "metadata": {
      "needs_background": "light"
     },
     "output_type": "display_data"
    },
    {
     "data": {
      "text/plain": "<Figure size 432x288 with 1 Axes>",
      "image/png": "[encoded data removed]"
     },
     "metadata": {
      "needs_background": "light"
     },
     "output_type": "display_data"
    },
    {
     "data": {
      "text/plain": "<Figure size 432x288 with 1 Axes>",
      "image/png": "[encoded data removed]"
     },
     "metadata": {
      "needs_background": "light"
     },
     "output_type": "display_data"
    },
    {
     "data": {
      "text/plain": "<Figure size 432x288 with 1 Axes>",
      "image/png": "[encoded data removed]"
     },
     "metadata": {
      "needs_background": "light"
     },
     "output_type": "display_data"
    },
    {
     "data": {
      "text/plain": "<Figure size 432x288 with 1 Axes>",
      "image/png": "[encoded data removed]"
     },
     "metadata": {
      "needs_background": "light"
     },
     "output_type": "display_data"
    },
    {
     "data": {
      "text/plain": "<Figure size 432x288 with 1 Axes>",
      "image/png": "[encoded data removed]"
     },
     "metadata": {
      "needs_background": "light"
     },
     "output_type": "display_data"
    },
    {
     "data": {
      "text/plain": "<Figure size 432x288 with 1 Axes>",
      "image/png": "[encoded data removed]"
     },
     "metadata": {
      "needs_background": "light"
     },
     "output_type": "display_data"
    },
    {
     "data": {
      "text/plain": "<Figure size 432x288 with 1 Axes>",
      "image/png": "[encoded data removed]"
     },
     "metadata": {
      "needs_background": "light"
     },
     "output_type": "display_data"
    },
    {
     "data": {
      "text/plain": "<Figure size 432x288 with 1 Axes>",
      "image/png": "[encoded data removed]"
     },
     "metadata": {
      "needs_background": "light"
     },
     "output_type": "display_data"
    },
    {
     "data": {
      "text/plain": "<Figure size 432x288 with 1 Axes>",
      "image/png": "[encoded data removed]"
     },
     "metadata": {
      "needs_background": "light"
     },
     "output_type": "display_data"
    }
   ],
   "source": [
    "for i in range(0, 11):\n",
    "    nqubits = 5\n",
    "    dephasing_rate = i * 0.1 # p = dephasing_rateとして計算\n",
    "    state = QuantumState(nqubits)\n",
    "    state.set_zero_state()\n",
    "\n",
    "    Hadamard = make_noisy_Hadamard(nqubits, dephasing_rate)\n",
    "    Hadamard.update_quantum_state(state)\n",
    "\n",
    "    plt.subplots(1, 1, tight_layout = True)\n",
    "    plt.subplots_adjust(wspace=0.5, hspace=0.5)\n",
    "    plt.title(f'prob: {dephasing_rate}')\n",
    "    plt.xlabel('2^5個のデータ')\n",
    "    plt.ylabel('確率')\n",
    "    show_distribution(state, nqubits)\n"
   ],
   "metadata": {
    "collapsed": false
   }
  },
  {
   "cell_type": "code",
   "execution_count": 21,
   "outputs": [
    {
     "ename": "RuntimeError",
     "evalue": "Error: QuantumCircuit::update_quantum_state(QuantumStateBase) : invalid qubit count",
     "output_type": "error",
     "traceback": [
      "\u001B[0;31m---------------------------------------------------------------------------\u001B[0m",
      "\u001B[0;31mRuntimeError\u001B[0m                              Traceback (most recent call last)",
      "Input \u001B[0;32mIn [21]\u001B[0m, in \u001B[0;36m<cell line: 13>\u001B[0;34m()\u001B[0m\n\u001B[1;32m     12\u001B[0m avg_result \u001B[38;5;241m=\u001B[39m []\n\u001B[1;32m     13\u001B[0m \u001B[38;5;28;01mfor\u001B[39;00m i \u001B[38;5;129;01min\u001B[39;00m \u001B[38;5;28mrange\u001B[39m(\u001B[38;5;241m4\u001B[39m):\n\u001B[0;32m---> 14\u001B[0m     \u001B[43mU_w\u001B[49m\u001B[38;5;241;43m.\u001B[39;49m\u001B[43mupdate_quantum_state\u001B[49m\u001B[43m(\u001B[49m\u001B[43mstate\u001B[49m\u001B[43m)\u001B[49m\n\u001B[1;32m     15\u001B[0m     U_s\u001B[38;5;241m.\u001B[39mupdate_quantum_state(state)\n\u001B[1;32m     16\u001B[0m     show_distribution(state,nqubits)\n",
      "\u001B[0;31mRuntimeError\u001B[0m: Error: QuantumCircuit::update_quantum_state(QuantumStateBase) : invalid qubit count"
     ]
    }
   ],
   "source": [
    "# 何回か繰り返す\n",
    "## 内積を評価するために 解状態 |1...1> を作っておく\n",
    "target_state = QuantumState(nqubits)\n",
    "target_state.set_computational_basis(2**nqubits-1) ## 2**n_qubits-1 は 2進数で 1...1\n",
    "\n",
    "## グローバーのアルゴリズムの実行\n",
    "state = QuantumState(nqubits)\n",
    "state.set_zero_state()\n",
    "\n",
    "Hadamard.update_quantum_state(state)\n",
    "\n",
    "avg_result = []\n",
    "for i in range(4):\n",
    "    U_w.update_quantum_state(state)\n",
    "    U_s.update_quantum_state(state)\n",
    "    show_distribution(state,nqubits)\n",
    "    fuga = np.linalg.norm(inner_product(state, target_state))\n",
    "    avg_result.append(fuga)\n",
    "    print(fuga)"
   ],
   "metadata": {
    "collapsed": false
   }
  },
  {
   "cell_type": "code",
   "execution_count": null,
   "outputs": [],
   "source": [
    "Hadamard = make_noisy_Hadamard(nqubits, dephasing_rate)\n",
    "## 初期状態の準備\n",
    "state = QuantumState(nqubits)\n",
    "state.set_zero_state()\n",
    "Hadamard.update_quantum_state(state)\n",
    "\n",
    "avg_result = []\n",
    "times = 10\n",
    "for i in range(times):\n",
    "    U_w.update_quantum_state(state)\n",
    "    U_s.update_quantum_state(state)\n",
    "    fuga = np.linalg.norm(inner_product(state, target_state))\n",
    "    avg_result.append(fuga)\n",
    "    print(fuga)\n",
    "\n",
    "plt.plot(avg_result, \"-o\")\n",
    "plt.xlabel('オラクルの試行回数k')\n",
    "plt.ylabel('|11...11>の確率振幅')\n",
    "plt.ylim(0, 1)\n"
   ],
   "metadata": {
    "collapsed": false
   }
  },
  {
   "cell_type": "code",
   "execution_count": null,
   "outputs": [],
   "source": [
    "max_result = []\n",
    "# グローバーのアルゴリズム\n",
    "def noisy_grover(nqubits, operate_times, dephasing_rate):\n",
    "    state = QuantumState(nqubits)\n",
    "    state.set_zero_state()\n",
    "\n",
    "    # 内積を評価するために 解状態 |1...1> を作っておく\n",
    "    target_state = QuantumState(nqubits)\n",
    "    target_state.set_computational_basis(2 ** nqubits - 1) # 2**n_qubits-1 は 2進数で 1...1\n",
    "\n",
    "    # グローバーのアルゴリズムの実行\n",
    "    # Hadamard = make_Hadamard(nqubits)\n",
    "    Noisy_Hadamard = make_noisy_Hadamard(nqubits, dephasing_rate)\n",
    "    U_w = make_U_w(nqubits)\n",
    "    U_s = make_U_s(nqubits)\n",
    "\n",
    "    result = []\n",
    "\n",
    "    state = QuantumState(nqubits)\n",
    "    state.set_zero_state()\n",
    "    Noisy_Hadamard.update_quantum_state(state)\n",
    "    for k in range(operate_times):\n",
    "        U_w.update_quantum_state(state)\n",
    "        U_s.update_quantum_state(state)\n",
    "        fuga = np.linalg.norm(inner_product(state, target_state))\n",
    "        result.append(fuga)\n",
    "        # print(fuga)\n",
    "\n",
    "\n",
    "    max_k = np.argmax(result)\n",
    "    max_result.append(result[max_k])\n",
    "\n",
    "    # print(f'maximal probability {result[max_k]:5e} is obtained at k = {max_k + 1}')\n",
    "\n",
    "    plt.plot(result, \"o-\")\n",
    "    plt.xlabel('オラクルの回数k')\n",
    "    plt.ylabel('|11...11>の確率振幅')\n",
    "    plt.ylim(0, 1)\n"
   ],
   "metadata": {
    "collapsed": false
   }
  },
  {
   "cell_type": "code",
   "execution_count": null,
   "outputs": [],
   "source": [
    "noisy_grover(5, 10, 0.5)"
   ],
   "metadata": {
    "collapsed": false
   }
  },
  {
   "cell_type": "code",
   "execution_count": null,
   "outputs": [],
   "source": [
    "max_result = []\n",
    "for i in range(0, 11):\n",
    "    x = i * 0.1\n",
    "    print(x)\n",
    "    plt.subplots(1, 1, tight_layout = True)\n",
    "    plt.subplots_adjust(wspace=0.5, hspace=0.5)\n",
    "    plt.title(f'prob: {x}')\n",
    "    noisy_grover(5, 10, x)"
   ],
   "metadata": {
    "collapsed": false
   }
  },
  {
   "cell_type": "code",
   "execution_count": null,
   "outputs": [],
   "source": [
    "max_result = []\n",
    "def noisy_I_grover(nqubits, times):\n",
    "    for i in range(0, 11):\n",
    "        x = i * 0.1\n",
    "        noisy_grover(5, 10, x)\n",
    "    # print(max_result)\n",
    "    # plt.plot(max_result)"
   ],
   "metadata": {
    "collapsed": false
   }
  },
  {
   "cell_type": "code",
   "execution_count": null,
   "outputs": [],
   "source": [
    "noisy_I_grover(5, 10)"
   ],
   "metadata": {
    "collapsed": false
   }
  },
  {
   "cell_type": "code",
   "execution_count": null,
   "outputs": [],
   "source": [
    "print(max_result)\n",
    "plt.plot(max_result, \"-o\")\n",
    "plt.xlabel('ノイズの発生確率p')\n",
    "plt.xticks(np.arange(0, 11, 2), [i/10 for i in range(0, 11, 2) ])\n",
    "plt.ylabel('|11...11>の確率振幅')\n",
    "plt.ylim(0, 1)\n",
    "\n",
    "\n",
    "plt.show()\n"
   ],
   "metadata": {
    "collapsed": false
   }
  },
  {
   "cell_type": "code",
   "execution_count": null,
   "outputs": [],
   "source": [
    "max_result = []\n",
    "# グローバーのアルゴリズム\n",
    "def noisy_grover_1(nqubits, operate_times, dephasing_rate):\n",
    "    state = QuantumState(nqubits)\n",
    "    state.set_zero_state()\n",
    "\n",
    "    # 内積を評価するために 解状態 |1...1> を作っておく\n",
    "    target_state = QuantumState(nqubits)\n",
    "    target_state.set_computational_basis(2 ** nqubits - 1) # 2**n_qubits-1 は 2進数で 1...1\n",
    "\n",
    "    # グローバーのアルゴリズムの実行\n",
    "    # Hadamard = make_Hadamard(nqubits)\n",
    "    Noisy_Hadamard = make_noisy_Hadamard(nqubits, dephasing_rate)\n",
    "    U_w = make_U_w(nqubits)\n",
    "    U_s = make_U_s(nqubits)\n",
    "\n",
    "    result = []\n",
    "\n",
    "    state = QuantumState(nqubits)\n",
    "    state.set_zero_state()\n",
    "    Noisy_Hadamard.update_quantum_state(state)\n",
    "    for k in range(operate_times):\n",
    "        U_w.update_quantum_state(state)\n",
    "        U_s.update_quantum_state(state)\n",
    "        fuga = np.linalg.norm(inner_product(state, target_state))\n",
    "        result.append(fuga)\n",
    "        # print(fuga)\n",
    "\n",
    "\n",
    "    max_k = np.argmax(result)\n",
    "    max_result.append(result[max_k])\n",
    "\n",
    "    # print(f'maximal probability {result[max_k]:5e} is obtained at k = {max_k + 1}')\n",
    "\n",
    "    plt.plot(result, \"o-\")\n",
    "    plt.xlabel('オラクルの回数k')\n",
    "    plt.ylabel('確率')\n"
   ],
   "metadata": {
    "collapsed": false
   }
  },
  {
   "cell_type": "code",
   "execution_count": null,
   "outputs": [],
   "source": [
    "sample_data_times = 100 # サンプルを集める試行回数\n",
    "nqubits = 5\n",
    "total_result = []\n",
    "for i in range(sample_data_times):\n",
    "    max_result = []\n",
    "    noisy_I_grover(global_nqubits, 10)\n",
    "    # print(f'max result:{max_result}')\n",
    "    total_result.append(max_result)"
   ],
   "metadata": {
    "collapsed": false
   }
  },
  {
   "cell_type": "code",
   "execution_count": null,
   "outputs": [],
   "source": [
    "for j in total_result:\n",
    "    plt.xlabel('エラー確率p')\n",
    "    plt.ylabel('|11...11>の確率振幅')\n",
    "    plt.ylim(0, 1)\n",
    "\n",
    "    plt.plot(j)\n",
    "\n",
    "result = []\n",
    "for i in range(10 + 1):\n",
    "    hoge = []\n",
    "    for j in range(nqubits):\n",
    "        tmp = total_result[j][i]\n",
    "        hoge.append(tmp)\n",
    "    print(hoge)\n",
    "    result.append(hoge)"
   ],
   "metadata": {
    "collapsed": false
   }
  },
  {
   "cell_type": "code",
   "execution_count": null,
   "outputs": [],
   "source": [
    "# boxplot_result = result\n",
    "# print(boxplot_result)\n",
    "# plt.boxplot(boxplot_result)\n",
    "# plt.show()"
   ],
   "metadata": {
    "collapsed": false
   }
  },
  {
   "cell_type": "code",
   "execution_count": null,
   "outputs": [],
   "source": [
    "avg_result = []\n",
    "scores = result\n",
    "\n",
    "for score in scores:\n",
    "    avg = np.mean(score)\n",
    "    avg_result.append(avg)\n",
    "print(f'平均結果:{avg_result}')\n",
    "plt.plot(avg_result)\n",
    "# plt.xlabel('オラクルの回数k')\n",
    "# plt.ylabel('確率')\n",
    "plt.xlabel('ノイズの発生確率p')\n",
    "plt.xticks(np.arange(0, 11, 2), [i/10 for i in range(0, 11, 2) ])\n",
    "plt.ylabel('|11...11>の確率振幅')\n",
    "plt.ylim(0, 1)\n",
    "plt.show()"
   ],
   "metadata": {
    "collapsed": false
   }
  },
  {
   "cell_type": "code",
   "execution_count": null,
   "outputs": [],
   "source": [
    "# 分散\n",
    "variance = []\n",
    "scores = result\n",
    "for score in scores:\n",
    "    v = np.var(score)\n",
    "    variance.append(v)\n",
    "\n",
    "print(f'分散：{variance}')\n",
    "\n",
    "plt.plot(variance)\n",
    "# plt.xlabel('オラクルの回数k')\n",
    "# plt.ylabel('確率')\n",
    "plt.xlabel('ノイズの発生確率p')\n",
    "plt.xticks(np.arange(0, 11, 2), [i/10 for i in range(0, 11, 2) ])\n",
    "\n",
    "plt.show()"
   ],
   "metadata": {
    "collapsed": false
   }
  },
  {
   "cell_type": "code",
   "execution_count": null,
   "outputs": [],
   "source": [
    "# 標準偏差\n",
    "scores = result\n",
    "standard = []\n",
    "for score in scores:\n",
    "    std = np.std(scores)\n",
    "    standard.append(std)\n",
    "\n",
    "print(f'標準偏差：{standard}')\n",
    "plt.plot(standard)\n",
    "# plt.xlabel('オラクルの回数k')\n",
    "# plt.ylabel('確率')\n",
    "plt.xlabel('ノイズの発生確率p')\n",
    "plt.xticks(np.arange(0, 11, 2), [i/10 for i in range(0, 11, 2) ])\n",
    "plt.show()"
   ],
   "metadata": {
    "collapsed": false
   }
  },
  {
   "cell_type": "markdown",
   "source": [
    "## p = 0.0, 1.0の特別な場合、どのようなことが発生するか"
   ],
   "metadata": {
    "collapsed": false
   }
  },
  {
   "cell_type": "markdown",
   "source": [
    "### p=0の時"
   ],
   "metadata": {
    "collapsed": false
   }
  },
  {
   "cell_type": "code",
   "execution_count": null,
   "outputs": [],
   "source": [
    "\n",
    "nqubits = 5\n",
    "dephasing_rate = 0\n"
   ],
   "metadata": {
    "collapsed": false
   }
  },
  {
   "cell_type": "code",
   "execution_count": null,
   "outputs": [],
   "source": [
    "max_result = []\n",
    "# グローバーのアルゴリズム\n",
    "def noisy_grover(nqubits, operate_times, dephasing_rate):\n",
    "    state = QuantumState(nqubits)\n",
    "    state.set_zero_state()\n",
    "\n",
    "    # 内積を評価するために 解状態 |1...1> を作っておく\n",
    "    target_state = QuantumState(nqubits)\n",
    "    target_state.set_computational_basis(2 ** nqubits - 1) # 2**n_qubits-1 は 2進数で 1...1\n",
    "\n",
    "    # グローバーのアルゴリズムの実行\n",
    "    Noisy_Hadamard = make_noisy_Hadamard(nqubits, dephasing_rate)\n",
    "    U_w = make_U_w(nqubits)\n",
    "    U_s = make_U_s(nqubits)\n",
    "\n",
    "    result = []\n",
    "\n",
    "    state = QuantumState(nqubits)\n",
    "    state.set_zero_state()\n",
    "    Noisy_Hadamard.update_quantum_state(state)\n",
    "    print(f'確率p = {dephasing_rate}でHadamardが作用されない')\n",
    "    print(f'確率:{np.linalg.norm(inner_product(state, target_state))}')\n",
    "    show_distribution(state, nqubits)\n",
    "    for k in range(operate_times):\n",
    "        print(f'{k + 1}回目')\n",
    "        U_w.update_quantum_state(state)\n",
    "        U_s.update_quantum_state(state)\n",
    "        fuga = np.linalg.norm(inner_product(state, target_state))\n",
    "        print(f'確率：{fuga}')\n",
    "        result.append(fuga)\n",
    "        show_distribution(state, nqubits)\n",
    "\n",
    "\n",
    "    max_k = np.argmax(result)\n",
    "    max_result.append(result[max_k])\n",
    "\n",
    "    print(f'maximal probability {result[max_k]:5e} is obtained at k = {max_k + 1}')\n",
    "\n",
    "    plt.plot(result, \"o-\")\n",
    "    plt.xlabel('オラクルの回数k')\n",
    "    plt.ylabel('|11...11>の確率振幅')\n"
   ],
   "metadata": {
    "collapsed": false
   }
  },
  {
   "cell_type": "code",
   "execution_count": null,
   "outputs": [],
   "source": [
    "max_result = []\n",
    "# グローバーのアルゴリズム\n",
    "def noisy_grover_1(nqubits, operate_times, dephasing_rate):\n",
    "    state = QuantumState(nqubits)\n",
    "    state.set_zero_state()\n",
    "\n",
    "    # 内積を評価するために 解状態 |1...1> を作っておく\n",
    "    target_state = QuantumState(nqubits)\n",
    "    target_state.set_computational_basis(2 ** nqubits - 1) # 2**n_qubits-1 は 2進数で 1...1\n",
    "\n",
    "    # グローバーのアルゴリズムの実行\n",
    "    Noisy_Hadamard = make_noisy_Hadamard(nqubits, dephasing_rate)\n",
    "    U_w = make_U_w(nqubits)\n",
    "    U_s = make_U_s(nqubits)\n",
    "\n",
    "    result = []\n",
    "\n",
    "    state = QuantumState(nqubits)\n",
    "    state.set_zero_state()\n",
    "    Noisy_Hadamard.update_quantum_state(state)\n",
    "    # print(f'確率p = {dephasing_rate}でHadamardが作用されない')\n",
    "    # print(f'確率:{np.linalg.norm(inner_product(state, target_state))}')\n",
    "    # show_distribution(state, nqubits)\n",
    "    for k in range(operate_times):\n",
    "        # print(f'{k + 1}回目')\n",
    "        U_w.update_quantum_state(state)\n",
    "        U_s.update_quantum_state(state)\n",
    "        fuga = np.linalg.norm(inner_product(state, target_state))\n",
    "        # print(f'確率：{fuga}')\n",
    "        result.append(fuga)\n",
    "        # show_distribution(state, nqubits)\n",
    "\n",
    "\n",
    "    max_k = np.argmax(result)\n",
    "    max_result.append(result[max_k])\n",
    "\n",
    "    # print(f'maximal probability {result[max_k]:5e} is obtained at k = {max_k + 1}')\n",
    "\n",
    "    plt.plot(result, \"o-\")\n",
    "    plt.xlabel('オラクルの回数k')\n",
    "    plt.ylabel('|11...11>の確率振幅')\n",
    "    plt.ylim(0, 1)\n",
    "\n"
   ],
   "metadata": {
    "collapsed": false
   }
  },
  {
   "cell_type": "code",
   "execution_count": null,
   "outputs": [],
   "source": [
    "max_result = []\n",
    "noisy_grover(5, 10, 0.0)\n",
    "print(f'max result:{max_result}')"
   ],
   "metadata": {
    "collapsed": false
   }
  },
  {
   "cell_type": "markdown",
   "source": [],
   "metadata": {
    "collapsed": false
   }
  },
  {
   "cell_type": "markdown",
   "source": [
    "#### 試行回数を増やす"
   ],
   "metadata": {
    "collapsed": false
   }
  },
  {
   "cell_type": "code",
   "execution_count": null,
   "outputs": [],
   "source": [
    "sample_data_times = 100 # サンプルを集める試行回数\n",
    "nqubits = 5\n",
    "total_result = []\n",
    "for i in range(sample_data_times):\n",
    "    max_result = []\n",
    "    noisy_grover_1(nqubits, 10, dephasing_rate)\n",
    "    total_result.append(max_result)\n",
    "\n",
    "print(f'total result: {total_result}')"
   ],
   "metadata": {
    "collapsed": false
   }
  },
  {
   "cell_type": "markdown",
   "source": [
    "### p = 1の時"
   ],
   "metadata": {
    "collapsed": false
   }
  },
  {
   "cell_type": "code",
   "execution_count": null,
   "outputs": [],
   "source": [
    "dephasing_rate = 1"
   ],
   "metadata": {
    "collapsed": false
   }
  },
  {
   "cell_type": "code",
   "execution_count": null,
   "outputs": [],
   "source": [
    "max_result = []\n",
    "noisy_grover(nqubits,10, dephasing_rate)"
   ],
   "metadata": {
    "collapsed": false
   }
  },
  {
   "cell_type": "markdown",
   "source": [
    "ここでは$| 1 \\cdots 1 \\rangle$を解として設定しているので、$p = 0$だと32個目のデータに解が集まり、ほぼ確率1で解の状態を得ることができ、$p = 1$だと確率があまり上がらない。"
   ],
   "metadata": {
    "collapsed": false
   }
  },
  {
   "cell_type": "code",
   "execution_count": null,
   "outputs": [],
   "source": [
    "max_result = []\n",
    "# U_s, U_wを作用させるとき、どのタイミングで変化するか調べる\n",
    "# グローバーのアルゴリズム\n",
    "def noisy_grover(nqubits, operate_times, dephasing_rate):\n",
    "    state = QuantumState(nqubits)\n",
    "    state.set_zero_state()\n",
    "\n",
    "    # 内積を評価するために 解状態 |1...1> を作っておく\n",
    "    target_state = QuantumState(nqubits)\n",
    "    target_state.set_computational_basis(2 ** nqubits - 1) # 2**n_qubits-1 は 2進数で 1...1\n",
    "\n",
    "    # グローバーのアルゴリズムの実行\n",
    "    Noisy_Hadamard = make_noisy_Hadamard(nqubits, dephasing_rate)\n",
    "    U_w = make_U_w(nqubits)\n",
    "    U_s = make_U_s(nqubits)\n",
    "\n",
    "    result = []\n",
    "\n",
    "    state = QuantumState(nqubits)\n",
    "    state.set_zero_state()\n",
    "    Noisy_Hadamard.update_quantum_state(state)\n",
    "    print(f'確率p = {dephasing_rate}でHadamardが作用されない')\n",
    "    print(f'確率:{np.linalg.norm(inner_product(state, target_state))}')\n",
    "    show_distribution(state, nqubits)\n",
    "    for k in range(operate_times):\n",
    "        print(f'{k + 1}回目')\n",
    "        U_w.update_quantum_state(state)\n",
    "        print(f'U_wを作用')\n",
    "        show_distribution(state, nqubits)\n",
    "        U_s.update_quantum_state(state)\n",
    "        fuga = np.linalg.norm(inner_product(state, target_state))\n",
    "        print(f'確率：{fuga}')\n",
    "        result.append(fuga)\n",
    "        show_distribution(state, nqubits)\n",
    "\n",
    "\n",
    "    max_k = np.argmax(result)\n",
    "    max_result.append(result[max_k])\n",
    "\n",
    "    print(f'maximal probability {result[max_k]:5e} is obtained at k = {max_k + 1}')\n",
    "\n",
    "    plt.plot(result, \"o-\")\n",
    "    plt.xlabel('オラクルの回数k')\n",
    "    plt.ylabel('|11...11>の確率振幅')\n",
    "    plt.ylim(0, 1)\n",
    "\n",
    "noisy_grover(nqubits,10, dephasing_rate)\n"
   ],
   "metadata": {
    "collapsed": false
   }
  },
  {
   "cell_type": "markdown",
   "source": [
    "#### 試行回数を増やしてみる"
   ],
   "metadata": {
    "collapsed": false
   }
  },
  {
   "cell_type": "code",
   "execution_count": null,
   "outputs": [],
   "source": [
    "sample_data_times = 100 # サンプルを集める試行回数\n",
    "nqubits = 5\n",
    "total_result = []\n",
    "for i in range(sample_data_times):\n",
    "    noisy_grover_1(nqubits, 10, dephasing_rate)\n",
    "    total_result.append(max_result)\n",
    "\n",
    "# print(f'total result: {total_result}')"
   ],
   "metadata": {
    "collapsed": false
   }
  },
  {
   "cell_type": "markdown",
   "source": [
    "## p = 0.1, 0.2, 0.5, 0.9の時にどのようなことが発生するか"
   ],
   "metadata": {
    "collapsed": false
   }
  },
  {
   "cell_type": "markdown",
   "source": [
    "### p = 0.1の時"
   ],
   "metadata": {
    "collapsed": false
   }
  },
  {
   "cell_type": "code",
   "execution_count": null,
   "outputs": [],
   "source": [
    "# dephasing_rate = 0.1\n",
    "dephasing_rate = float(Fraction('0.1'))\n",
    "noisy_grover(nqubits, 10, dephasing_rate)"
   ],
   "metadata": {
    "collapsed": false
   }
  },
  {
   "cell_type": "markdown",
   "source": [
    "#### 試行回数を増やす"
   ],
   "metadata": {
    "collapsed": false
   }
  },
  {
   "cell_type": "code",
   "execution_count": null,
   "outputs": [],
   "source": [
    "sample_data_times = 100 # サンプルを集める試行回数\n",
    "nqubits = 5\n",
    "total_result = []\n",
    "for i in range(sample_data_times):\n",
    "    max_result = []\n",
    "    noisy_grover_1(nqubits, 10, dephasing_rate)\n",
    "    total_result.append(max_result)\n",
    "\n",
    "# print(f'total result: {total_result}')"
   ],
   "metadata": {
    "collapsed": false
   }
  },
  {
   "cell_type": "code",
   "execution_count": null,
   "outputs": [],
   "source": [
    "dephasing_rate = 0.1\n",
    "\n",
    "sample_data_times = 100 # サンプルを集める試行回数\n",
    "nqubits = 5\n",
    "total_result = []\n",
    "for i in range(sample_data_times):\n",
    "    max_result = []\n",
    "    noisy_grover_1(nqubits, 10, dephasing_rate)\n",
    "    total_result.append(max_result)\n"
   ],
   "metadata": {
    "collapsed": false
   }
  },
  {
   "cell_type": "markdown",
   "source": [
    "### p = 0.2の時"
   ],
   "metadata": {
    "collapsed": false
   }
  },
  {
   "cell_type": "code",
   "execution_count": null,
   "outputs": [],
   "source": [
    "dephasing_rate = 0.2\n",
    "noisy_grover(nqubits, 10, dephasing_rate)"
   ],
   "metadata": {
    "collapsed": false
   }
  },
  {
   "cell_type": "markdown",
   "source": [
    "#### 試行回数を増やす"
   ],
   "metadata": {
    "collapsed": false
   }
  },
  {
   "cell_type": "code",
   "execution_count": null,
   "outputs": [],
   "source": [
    "sample_data_times = 100 # サンプルを集める試行回数\n",
    "nqubits = 5\n",
    "total_result = []\n",
    "for i in range(sample_data_times):\n",
    "    max_result = []\n",
    "    noisy_grover_1(nqubits, 10, dephasing_rate)\n",
    "    total_result.append(max_result)"
   ],
   "metadata": {
    "collapsed": false
   }
  },
  {
   "cell_type": "markdown",
   "source": [
    "### p = 0.5 の時"
   ],
   "metadata": {
    "collapsed": false
   }
  },
  {
   "cell_type": "code",
   "execution_count": null,
   "outputs": [],
   "source": [
    "dephasing_rate = 0.5\n",
    "noisy_grover(nqubits, 10, dephasing_rate)"
   ],
   "metadata": {
    "collapsed": false
   }
  },
  {
   "cell_type": "markdown",
   "source": [
    "#### 試行回数を増やしてみる"
   ],
   "metadata": {
    "collapsed": false
   }
  },
  {
   "cell_type": "code",
   "execution_count": null,
   "outputs": [],
   "source": [
    "sample_data_times = 100 # サンプルを集める試行回数\n",
    "nqubits = 5\n",
    "total_result = []\n",
    "for i in range(sample_data_times):\n",
    "    max_result = []\n",
    "    noisy_grover_1(nqubits, 10, dephasing_rate)\n",
    "    total_result.append(max_result)\n"
   ],
   "metadata": {
    "collapsed": false
   }
  },
  {
   "cell_type": "markdown",
   "source": [
    "### p = 0.9の時"
   ],
   "metadata": {
    "collapsed": false
   }
  },
  {
   "cell_type": "code",
   "execution_count": null,
   "outputs": [],
   "source": [
    "dephasing_rate = 0.9\n",
    "noisy_grover(nqubits, 10, dephasing_rate)"
   ],
   "metadata": {
    "collapsed": false
   }
  },
  {
   "cell_type": "markdown",
   "source": [
    "#### 試行回数を増やしてみる"
   ],
   "metadata": {
    "collapsed": false
   }
  },
  {
   "cell_type": "code",
   "execution_count": null,
   "outputs": [],
   "source": [
    "sample_data_times = 100 # サンプルを集める試行回数\n",
    "nqubits = 5\n",
    "total_result = []\n",
    "for i in range(sample_data_times):\n",
    "    max_result = []\n",
    "    noisy_grover_1(nqubits, 10, dephasing_rate)\n",
    "    total_result.append(max_result)\n",
    "\n"
   ],
   "metadata": {
    "collapsed": false
   }
  },
  {
   "cell_type": "code",
   "execution_count": null,
   "outputs": [],
   "source": [],
   "metadata": {
    "collapsed": false
   }
  }
 ],
 "metadata": {
  "kernelspec": {
   "display_name": "Python 3",
   "language": "python",
   "name": "python3"
  },
  "language_info": {
   "codemirror_mode": {
    "name": "ipython",
    "version": 2
   },
   "file_extension": ".py",
   "mimetype": "text/x-python",
   "name": "python",
   "nbconvert_exporter": "python",
   "pygments_lexer": "ipython2",
   "version": "2.7.6"
  }
 },
 "nbformat": 4,
 "nbformat_minor": 0
}
