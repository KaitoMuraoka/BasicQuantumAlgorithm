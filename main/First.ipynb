{
 "cells": [
  {
   "cell_type": "code",
   "execution_count": 1,
   "metadata": {
    "collapsed": true
   },
   "outputs": [],
   "source": [
    "## ライブラリのインポート\n",
    "import matplotlib.pyplot as plt\n",
    "import numpy as np\n",
    "import time\n",
    "import random\n",
    "from qulacs import QuantumState\n",
    "from qulacs.state import inner_product\n",
    "from qulacs import QuantumCircuit\n",
    "from qulacs.gate import to_matrix_gate\n",
    "from qulacs import QuantumState\n",
    "from qulacs.gate import Identity, X,Y,Z #パウリ演算子\n",
    "from qulacs.gate import H\n",
    "from qulacs.gate import RX,RY,RZ #パウリ演算子についての回転演算"
   ]
  },
  {
   "cell_type": "markdown",
   "source": [
    "## 理想的な回路作成"
   ],
   "metadata": {
    "collapsed": false
   }
  },
  {
   "cell_type": "code",
   "execution_count": 2,
   "outputs": [],
   "source": [
    "# 係数の絶対値の分布をプロットする関数\n",
    "def show_distribution(state, nqubits):\n",
    "    plt.bar([i for i in range(pow(2, nqubits))], abs(state.get_vector()))"
   ],
   "metadata": {
    "collapsed": false
   }
  },
  {
   "cell_type": "markdown",
   "source": [
    "### 動作の確認\n",
    "まずは5量子ビットのアルゴリズムを実装し、動作を確認する。"
   ],
   "metadata": {
    "collapsed": false
   }
  },
  {
   "cell_type": "code",
   "execution_count": 3,
   "outputs": [
    {
     "data": {
      "text/plain": "<Figure size 432x288 with 1 Axes>",
      "image/png": "[encoded data removed]"
     },
     "metadata": {
      "needs_background": "light"
     },
     "output_type": "display_data"
    }
   ],
   "source": [
    "nqubits = 5\n",
    "state = QuantumState(nqubits)\n",
    "state.set_zero_state()\n",
    "\n",
    "def make_Hadamard(nqubits):\n",
    "    Hadamard = QuantumCircuit(nqubits)\n",
    "    for i in range(nqubits):\n",
    "        Hadamard.add_gate(H(i))\n",
    "    return  Hadamard\n",
    "\n",
    "Hadamard = make_Hadamard(nqubits)\n",
    "Hadamard.update_quantum_state(state)\n",
    "\n",
    "show_distribution(state, nqubits)"
   ],
   "metadata": {
    "collapsed": false
   }
  },
  {
   "cell_type": "code",
   "execution_count": 4,
   "outputs": [],
   "source": [
    "# オラクルU_wの作成\n",
    "def make_U_w(nqubits):\n",
    "    U_w = QuantumCircuit(nqubits)\n",
    "    CnZ = to_matrix_gate(Z(nqubits-1))\n",
    "    # i-th qubitが全て1の場合だけゲートを作用\n",
    "    for i in range(nqubits-1):\n",
    "        control_index = i\n",
    "        control_with_value = 1\n",
    "        CnZ.add_control_qubit(control_index, control_with_value)\n",
    "    U_w.add_gate(CnZ)\n",
    "    return U_w"
   ],
   "metadata": {
    "collapsed": false
   }
  },
  {
   "cell_type": "code",
   "execution_count": 5,
   "outputs": [
    {
     "name": "stdout",
     "output_type": "stream",
     "text": [
      "[ 0.1767767+0.j  0.1767767+0.j  0.1767767+0.j  0.1767767+0.j\n",
      "  0.1767767+0.j  0.1767767+0.j  0.1767767+0.j  0.1767767+0.j\n",
      "  0.1767767+0.j  0.1767767+0.j  0.1767767+0.j  0.1767767+0.j\n",
      "  0.1767767+0.j  0.1767767+0.j  0.1767767+0.j  0.1767767+0.j\n",
      "  0.1767767+0.j  0.1767767+0.j  0.1767767+0.j  0.1767767+0.j\n",
      "  0.1767767+0.j  0.1767767+0.j  0.1767767+0.j  0.1767767+0.j\n",
      "  0.1767767+0.j  0.1767767+0.j  0.1767767+0.j  0.1767767+0.j\n",
      "  0.1767767+0.j  0.1767767+0.j  0.1767767+0.j -0.1767767+0.j]\n"
     ]
    }
   ],
   "source": [
    "fuga = state.copy()\n",
    "U_w = make_U_w(nqubits)\n",
    "U_w.update_quantum_state(fuga)\n",
    "print(fuga.get_vector())"
   ],
   "metadata": {
    "collapsed": false
   }
  },
  {
   "cell_type": "code",
   "execution_count": 6,
   "outputs": [],
   "source": [
    "# 反転U_sを作る\n",
    "def make_U_s(nqubits):\n",
    "    U_s = QuantumCircuit(nqubits)\n",
    "    for i in range(nqubits):\n",
    "        U_s.add_gate(H(i))\n",
    "\n",
    "    ## 2|0><0| - I の実装\n",
    "    U_s.add_gate(to_matrix_gate(RZ(nqubits-1, 2*np.pi))) ## まず、位相(-1)を全ての状態に付与する。ゲート行列はarrary([[-1,0],[0,-1]])\n",
    "    U_s.add_gate( X(nqubits-1) )\n",
    "    ## 全てのi-th qubitが0の場合だけZゲートを作用させる\n",
    "    CnZ = to_matrix_gate(Z(nqubits-1))\n",
    "    for i in range(nqubits-1):\n",
    "        control_index = i\n",
    "        control_with_value = 0\n",
    "        CnZ.add_control_qubit(control_index, control_with_value)\n",
    "    U_s.add_gate( CnZ )\n",
    "    U_s.add_gate( X(nqubits-1) )\n",
    "\n",
    "    for i in range(nqubits):\n",
    "        U_s.add_gate(H(i))\n",
    "\n",
    "    return U_s"
   ],
   "metadata": {
    "collapsed": false
   }
  },
  {
   "cell_type": "code",
   "execution_count": 7,
   "outputs": [
    {
     "data": {
      "text/plain": "<Figure size 432x288 with 1 Axes>",
      "image/png": "[encoded data removed]"
     },
     "metadata": {
      "needs_background": "light"
     },
     "output_type": "display_data"
    }
   ],
   "source": [
    "## 初期状態の準備\n",
    "state = QuantumState(nqubits)\n",
    "state.set_zero_state()\n",
    "Hadamard.update_quantum_state(state)\n",
    "\n",
    "## U_s U_w を作用\n",
    "U_s = make_U_s(nqubits)\n",
    "U_w.update_quantum_state(state)\n",
    "U_s.update_quantum_state(state)\n",
    "show_distribution(state,nqubits)"
   ],
   "metadata": {
    "collapsed": false
   }
  },
  {
   "cell_type": "code",
   "execution_count": 8,
   "outputs": [
    {
     "name": "stdout",
     "output_type": "stream",
     "text": [
      "0.5082329989778305\n",
      "0.7761601777867947\n",
      "0.9470673343724091\n",
      "0.9995910741614723\n"
     ]
    },
    {
     "data": {
      "text/plain": "<Figure size 432x288 with 1 Axes>",
      "image/png": "[encoded data removed]"
     },
     "metadata": {
      "needs_background": "light"
     },
     "output_type": "display_data"
    }
   ],
   "source": [
    "# 何回か繰り返す\n",
    "## 内積を評価するために 解状態 |1...1> を作っておく\n",
    "target_state = QuantumState(nqubits)\n",
    "target_state.set_computational_basis(2**nqubits-1) ## 2**n_qubits-1 は 2進数で 1...1\n",
    "\n",
    "## グローバーのアルゴリズムの実行\n",
    "state = QuantumState(nqubits)\n",
    "state.set_zero_state()\n",
    "\n",
    "Hadamard.update_quantum_state(state)\n",
    "\n",
    "result = []\n",
    "for i in range(4):\n",
    "    U_w.update_quantum_state(state)\n",
    "    U_s.update_quantum_state(state)\n",
    "    show_distribution(state,nqubits)\n",
    "    fuga = np.linalg.norm(inner_product(state, target_state))\n",
    "    result.append(fuga)\n",
    "    print(fuga)"
   ],
   "metadata": {
    "collapsed": false
   }
  },
  {
   "cell_type": "code",
   "execution_count": 9,
   "outputs": [
    {
     "name": "stdout",
     "output_type": "stream",
     "text": [
      "0.5082329989778305\n",
      "0.7761601777867947\n",
      "0.9470673343724091\n",
      "0.9995910741614723\n",
      "0.9271659296803515\n",
      "0.738845043989187\n",
      "0.4581685277993745\n",
      "0.1202209456346408\n",
      "0.23275425473442243\n",
      "0.5566351732616823\n"
     ]
    },
    {
     "data": {
      "text/plain": "[<matplotlib.lines.Line2D at 0x124c5e4c0>]"
     },
     "execution_count": 9,
     "metadata": {},
     "output_type": "execute_result"
    },
    {
     "data": {
      "text/plain": "<Figure size 432x288 with 1 Axes>",
      "image/png": "[encoded data removed]"
     },
     "metadata": {
      "needs_background": "light"
     },
     "output_type": "display_data"
    }
   ],
   "source": [
    "## 初期状態の準備\n",
    "state = QuantumState(nqubits)\n",
    "state.set_zero_state()\n",
    "Hadamard.update_quantum_state(state)\n",
    "\n",
    "result = []\n",
    "times = 10\n",
    "for i in range(times):\n",
    "    U_w.update_quantum_state(state)\n",
    "    U_s.update_quantum_state(state)\n",
    "    # show_distribution(state,nqubits)\n",
    "    fuga = np.linalg.norm(inner_product(state, target_state))\n",
    "    result.append(fuga)\n",
    "    print(fuga)\n",
    "\n",
    "# plt.plot(np.arange(1, times+1), result, \"o-\")\n",
    "plt.plot(result)"
   ],
   "metadata": {
    "collapsed": false
   }
  },
  {
   "cell_type": "code",
   "execution_count": 10,
   "outputs": [],
   "source": [
    "# グローバーのアルゴリズムの関数化\n",
    "def grover(nqubits, operate_times):\n",
    "    ## 内積を評価するために、解状態|1...1>を作っておく\n",
    "    target_state = QuantumState(nqubits)\n",
    "    ## 2**n_qubits - 1は2進数で1...1\n",
    "    target_state.set_computational_basis(2 ** nqubits - 1)\n",
    "\n",
    "    state = QuantumState(nqubits)\n",
    "    state.set_zero_state()\n",
    "\n",
    "    Hadamard = make_Hadamard(nqubits)\n",
    "    Hadamard.update_quantum_state(state)\n",
    "\n",
    "    ## U_s, U_wを作用\n",
    "    U_s = make_U_s(nqubits)\n",
    "    U_w = make_U_w(nqubits)\n",
    "    U_s.update_quantum_state(state)\n",
    "    U_w.update_quantum_state(state)\n",
    "\n",
    "    result = []\n",
    "    for i in range(operate_times + 1):\n",
    "        U_w.update_quantum_state(state)\n",
    "        U_s.update_quantum_state(state)\n",
    "        hoge = np.linalg.norm(inner_product(state, target_state))\n",
    "        result.append(hoge)\n",
    "        print(hoge)\n",
    "    plt.plot(result)\n"
   ],
   "metadata": {
    "collapsed": false
   }
  },
  {
   "cell_type": "code",
   "execution_count": 11,
   "outputs": [
    {
     "name": "stdout",
     "output_type": "stream",
     "text": [
      "0.17677669529663653\n",
      "0.5082329989778296\n",
      "0.7761601777867934\n",
      "0.9470673343724075\n",
      "0.9995910741614709\n",
      "0.9271659296803503\n",
      "0.7388450439891859\n",
      "0.45816852779937395\n",
      "0.1202209456346406\n",
      "0.2327542547344221\n",
      "0.5566351732616814\n"
     ]
    },
    {
     "data": {
      "text/plain": "<Figure size 432x288 with 1 Axes>",
      "image/png": "[encoded data removed]"
     },
     "metadata": {
      "needs_background": "light"
     },
     "output_type": "display_data"
    }
   ],
   "source": [
    "grover(5, 10)"
   ],
   "metadata": {
    "collapsed": false
   }
  },
  {
   "cell_type": "markdown",
   "source": [
    "ノイズを入れてみる。"
   ],
   "metadata": {
    "collapsed": false
   }
  },
  {
   "cell_type": "code",
   "execution_count": 12,
   "outputs": [],
   "source": [
    "from qulacs.gate import DephasingNoise"
   ],
   "metadata": {
    "collapsed": false
   }
  },
  {
   "cell_type": "code",
   "execution_count": 13,
   "outputs": [],
   "source": [
    "# オラクルU_wの作成\n",
    "def make_noisy_U_w(nqubits, dephasing_rate):\n",
    "    U_w = QuantumCircuit(nqubits)\n",
    "    # DephasingNoise(0, dephasing_rate)\n",
    "    CnZ = to_matrix_gate(Z(nqubits-1))\n",
    "    # i-th qubitが全て1の場合だけゲートを作用\n",
    "    for i in range(nqubits-1):\n",
    "        DephasingNoise(i, dephasing_rate)\n",
    "        control_index = i\n",
    "        control_with_value = 1\n",
    "        CnZ.add_control_qubit(control_index, control_with_value)\n",
    "    U_w.add_gate(CnZ)\n",
    "    return U_w"
   ],
   "metadata": {
    "collapsed": false
   }
  },
  {
   "cell_type": "code",
   "execution_count": 14,
   "outputs": [],
   "source": [
    "# 反転U_sを作る\n",
    "def make_noisy_U_s(nqubits, dephasing_rate):\n",
    "    U_s = QuantumCircuit(nqubits)\n",
    "    # DephasingNoise(0, dephasing_rate)\n",
    "    for i in range(nqubits):\n",
    "        DephasingNoise(i, dephasing_rate)\n",
    "        U_s.add_gate(H(i))\n",
    "\n",
    "    ## 2|0><0| - I の実装\n",
    "    U_s.add_gate(to_matrix_gate(RZ(nqubits-1, 2*np.pi))) ## まず、位相(-1)を全ての状態に付与する。ゲート行列はarrary([[-1,0],[0,-1]])\n",
    "    U_s.add_gate( X(nqubits-1) )\n",
    "    ## 全てのi-th qubitが0の場合だけZゲートを作用させる\n",
    "    CnZ = to_matrix_gate(Z(nqubits-1))\n",
    "    for i in range(nqubits-1):\n",
    "        control_index = i\n",
    "        control_with_value = 0\n",
    "        CnZ.add_control_qubit(control_index, control_with_value)\n",
    "    U_s.add_gate( CnZ )\n",
    "    U_s.add_gate( X(nqubits-1) )\n",
    "\n",
    "    for i in range(nqubits):\n",
    "        U_s.add_gate(H(i))\n",
    "\n",
    "    return U_s"
   ],
   "metadata": {
    "collapsed": false
   }
  },
  {
   "cell_type": "code",
   "execution_count": 15,
   "outputs": [],
   "source": [
    "# U_wにノイズのあるグローバーのアルゴリズムの関数化\n",
    "def noisy_U_w_grover(nqubits, operate_times, dephasing_rate):\n",
    "    ## 内積を評価するために、解状態|1...1>を作っておく\n",
    "    target_state = QuantumState(nqubits)\n",
    "    ## 2**n_qubits - 1は2進数で1...1\n",
    "    target_state.set_computational_basis(2 ** nqubits - 1)\n",
    "\n",
    "    state = QuantumState(nqubits)\n",
    "    state.set_zero_state()\n",
    "\n",
    "    Hadamard = make_Hadamard(nqubits)\n",
    "    Hadamard.update_quantum_state(state)\n",
    "\n",
    "    ## U_s, U_wを作用\n",
    "    U_w = make_noisy_U_w(nqubits, dephasing_rate)\n",
    "    U_s = make_U_s(nqubits)\n",
    "    U_w.update_quantum_state(state)\n",
    "    U_s.update_quantum_state(state)\n",
    "\n",
    "    result = []\n",
    "    for i in range(operate_times + 1):\n",
    "        U_w.update_quantum_state(state)\n",
    "        U_s.update_quantum_state(state)\n",
    "        hoge = np.linalg.norm(inner_product(state, target_state))\n",
    "        result.append(hoge)\n",
    "        print(hoge)\n",
    "    plt.plot(result)"
   ],
   "metadata": {
    "collapsed": false
   }
  },
  {
   "cell_type": "code",
   "execution_count": 16,
   "outputs": [
    {
     "name": "stdout",
     "output_type": "stream",
     "text": [
      "0.7761601777867947\n",
      "0.9470673343724091\n",
      "0.9995910741614723\n",
      "0.9271659296803515\n",
      "0.738845043989187\n",
      "0.4581685277993745\n",
      "0.1202209456346408\n",
      "0.23275425473442243\n",
      "0.5566351732616823\n",
      "0.8109366951312313\n",
      "0.963871130109376\n"
     ]
    },
    {
     "data": {
      "text/plain": "<Figure size 432x288 with 1 Axes>",
      "image/png": "[encoded data removed]"
     },
     "metadata": {
      "needs_background": "light"
     },
     "output_type": "display_data"
    }
   ],
   "source": [
    "noisy_U_w_grover(5, 10, 0.5)"
   ],
   "metadata": {
    "collapsed": false
   }
  },
  {
   "cell_type": "code",
   "execution_count": 17,
   "outputs": [
    {
     "name": "stdout",
     "output_type": "stream",
     "text": [
      "prob:0.0\n",
      "0.7761601777867947\n",
      "0.9470673343724091\n",
      "0.9995910741614723\n",
      "0.9271659296803515\n",
      "0.738845043989187\n",
      "0.4581685277993745\n",
      "0.1202209456346408\n",
      "0.23275425473442243\n",
      "0.5566351732616823\n",
      "0.8109366951312313\n",
      "0.963871130109376\n",
      "prob:0.1\n",
      "0.7761601777867947\n",
      "0.9470673343724091\n",
      "0.9995910741614723\n",
      "0.9271659296803515\n",
      "0.738845043989187\n",
      "0.4581685277993745\n",
      "0.1202209456346408\n",
      "0.23275425473442243\n",
      "0.5566351732616823\n",
      "0.8109366951312313\n",
      "0.963871130109376\n",
      "prob:0.2\n",
      "0.7761601777867947\n",
      "0.9470673343724091\n",
      "0.9995910741614723\n",
      "0.9271659296803515\n",
      "0.738845043989187\n",
      "0.4581685277993745\n",
      "0.1202209456346408\n",
      "0.23275425473442243\n",
      "0.5566351732616823\n",
      "0.8109366951312313\n",
      "0.963871130109376\n",
      "prob:0.30000000000000004\n",
      "0.7761601777867947\n",
      "0.9470673343724091\n",
      "0.9995910741614723\n",
      "0.9271659296803515\n",
      "0.738845043989187\n",
      "0.4581685277993745\n",
      "0.1202209456346408\n",
      "0.23275425473442243\n",
      "0.5566351732616823\n",
      "0.8109366951312313\n",
      "0.963871130109376\n",
      "prob:0.4\n",
      "0.7761601777867947\n",
      "0.9470673343724091\n",
      "0.9995910741614723\n",
      "0.9271659296803515\n",
      "0.738845043989187\n",
      "0.4581685277993745\n",
      "0.1202209456346408\n",
      "0.23275425473442243\n",
      "0.5566351732616823\n",
      "0.8109366951312313\n",
      "0.963871130109376\n",
      "prob:0.5\n",
      "0.7761601777867947\n",
      "0.9470673343724091\n",
      "0.9995910741614723\n",
      "0.9271659296803515\n",
      "0.738845043989187\n",
      "0.4581685277993745\n",
      "0.1202209456346408\n",
      "0.23275425473442243\n",
      "0.5566351732616823\n",
      "0.8109366951312313\n",
      "0.963871130109376\n",
      "prob:0.6000000000000001\n",
      "0.7761601777867947\n",
      "0.9470673343724091\n",
      "0.9995910741614723\n",
      "0.9271659296803515\n",
      "0.738845043989187\n",
      "0.4581685277993745\n",
      "0.1202209456346408\n",
      "0.23275425473442243\n",
      "0.5566351732616823\n",
      "0.8109366951312313\n",
      "0.963871130109376\n",
      "prob:0.7000000000000001\n",
      "0.7761601777867947\n",
      "0.9470673343724091\n",
      "0.9995910741614723\n",
      "0.9271659296803515\n",
      "0.738845043989187\n",
      "0.4581685277993745\n",
      "0.1202209456346408\n",
      "0.23275425473442243\n",
      "0.5566351732616823\n",
      "0.8109366951312313\n",
      "0.963871130109376\n",
      "prob:0.8\n",
      "0.7761601777867947\n",
      "0.9470673343724091\n",
      "0.9995910741614723\n",
      "0.9271659296803515\n",
      "0.738845043989187\n",
      "0.4581685277993745\n",
      "0.1202209456346408\n",
      "0.23275425473442243\n",
      "0.5566351732616823\n",
      "0.8109366951312313\n",
      "0.963871130109376\n",
      "prob:0.9\n",
      "0.7761601777867947\n",
      "0.9470673343724091\n",
      "0.9995910741614723\n",
      "0.9271659296803515\n",
      "0.738845043989187\n",
      "0.4581685277993745\n",
      "0.1202209456346408\n",
      "0.23275425473442243\n",
      "0.5566351732616823\n",
      "0.8109366951312313\n",
      "0.963871130109376\n"
     ]
    },
    {
     "data": {
      "text/plain": "<Figure size 432x288 with 1 Axes>",
      "image/png": "[encoded data removed]"
     },
     "metadata": {
      "needs_background": "light"
     },
     "output_type": "display_data"
    }
   ],
   "source": [
    "for prob in np.arange(0.0, 1.0, 0.1):\n",
    "    print(f'prob:{prob}')\n",
    "    noisy_U_w_grover(5, 10, prob)"
   ],
   "metadata": {
    "collapsed": false
   }
  },
  {
   "cell_type": "code",
   "execution_count": 18,
   "outputs": [],
   "source": [
    "# U_sにノイズのあるグローバーのアルゴリズムの関数化\n",
    "def noisy_U_s_grover(nqubits, operate_times, dephasing_rate):\n",
    "    ## 内積を評価するために、解状態|1...1>を作っておく\n",
    "    target_state = QuantumState(nqubits)\n",
    "    ## 2**n_qubits - 1は2進数で1...1\n",
    "    target_state.set_computational_basis(2 ** nqubits - 1)\n",
    "\n",
    "    state = QuantumState(nqubits)\n",
    "    state.set_zero_state()\n",
    "\n",
    "    Hadamard = make_Hadamard(nqubits)\n",
    "    Hadamard.update_quantum_state(state)\n",
    "\n",
    "    ## U_s, U_wを作用\n",
    "    U_w = make_U_w(nqubits)\n",
    "    U_s = make_noisy_U_s(nqubits, dephasing_rate)\n",
    "    U_w.update_quantum_state(state)\n",
    "    U_s.update_quantum_state(state)\n",
    "\n",
    "    result = []\n",
    "    for i in range(operate_times + 1):\n",
    "        U_w.update_quantum_state(state)\n",
    "        U_s.update_quantum_state(state)\n",
    "        hoge = np.linalg.norm(inner_product(state, target_state))\n",
    "        result.append(hoge)\n",
    "        print(hoge)\n",
    "    plt.plot(result)"
   ],
   "metadata": {
    "collapsed": false
   }
  },
  {
   "cell_type": "code",
   "execution_count": 19,
   "outputs": [
    {
     "name": "stdout",
     "output_type": "stream",
     "text": [
      "0.7761601777867947\n",
      "0.9470673343724091\n",
      "0.9995910741614723\n",
      "0.9271659296803515\n",
      "0.738845043989187\n",
      "0.4581685277993745\n",
      "0.1202209456346408\n",
      "0.23275425473442243\n",
      "0.5566351732616823\n",
      "0.8109366951312313\n",
      "0.963871130109376\n"
     ]
    },
    {
     "data": {
      "text/plain": "<Figure size 432x288 with 1 Axes>",
      "image/png": "[encoded data removed]"
     },
     "metadata": {
      "needs_background": "light"
     },
     "output_type": "display_data"
    }
   ],
   "source": [
    "noisy_U_s_grover(5, 10, 0.5)"
   ],
   "metadata": {
    "collapsed": false
   }
  },
  {
   "cell_type": "code",
   "execution_count": 20,
   "outputs": [],
   "source": [
    "# 両方にノイズのあるグローバーのアルゴリズムの関数化\n",
    "def noisy_U_grover(nqubits, operate_times, dephasing_rate):\n",
    "    ## 内積を評価するために、解状態|1...1>を作っておく\n",
    "    target_state = QuantumState(nqubits)\n",
    "    ## 2**n_qubits - 1は2進数で1...1\n",
    "    target_state.set_computational_basis(2 ** nqubits - 1)\n",
    "\n",
    "    state = QuantumState(nqubits)\n",
    "    state.set_zero_state()\n",
    "\n",
    "    Hadamard = make_Hadamard(nqubits)\n",
    "    Hadamard.update_quantum_state(state)\n",
    "\n",
    "    ## U_s, U_wを作用\n",
    "    U_w = make_noisy_U_w(nqubits, dephasing_rate)\n",
    "    U_s = make_noisy_U_s(nqubits, dephasing_rate)\n",
    "    U_w.update_quantum_state(state)\n",
    "    U_s.update_quantum_state(state)\n",
    "\n",
    "    result = []\n",
    "    for i in range(operate_times + 1):\n",
    "        U_w.update_quantum_state(state)\n",
    "        U_s.update_quantum_state(state)\n",
    "        hoge = np.linalg.norm(inner_product(state, target_state))\n",
    "        result.append(hoge)\n",
    "        print(hoge)\n",
    "    plt.plot(result)"
   ],
   "metadata": {
    "collapsed": false
   }
  },
  {
   "cell_type": "code",
   "execution_count": 21,
   "outputs": [
    {
     "name": "stdout",
     "output_type": "stream",
     "text": [
      "0.7761601777867947\n",
      "0.9470673343724091\n",
      "0.9995910741614723\n",
      "0.9271659296803515\n",
      "0.738845043989187\n",
      "0.4581685277993745\n",
      "0.1202209456346408\n",
      "0.23275425473442243\n",
      "0.5566351732616823\n",
      "0.8109366951312313\n",
      "0.963871130109376\n"
     ]
    },
    {
     "data": {
      "text/plain": "<Figure size 432x288 with 1 Axes>",
      "image/png": "[encoded data removed]"
     },
     "metadata": {
      "needs_background": "light"
     },
     "output_type": "display_data"
    }
   ],
   "source": [
    "noisy_U_grover(5, 10, 0.5)"
   ],
   "metadata": {
    "collapsed": false
   }
  },
  {
   "cell_type": "code",
   "execution_count": 21,
   "outputs": [],
   "source": [],
   "metadata": {
    "collapsed": false
   }
  }
 ],
 "metadata": {
  "kernelspec": {
   "display_name": "Python 3",
   "language": "python",
   "name": "python3"
  },
  "language_info": {
   "codemirror_mode": {
    "name": "ipython",
    "version": 2
   },
   "file_extension": ".py",
   "mimetype": "text/x-python",
   "name": "python",
   "nbconvert_exporter": "python",
   "pygments_lexer": "ipython2",
   "version": "2.7.6"
  }
 },
 "nbformat": 4,
 "nbformat_minor": 0
}
