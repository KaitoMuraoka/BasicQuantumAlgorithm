{
 "cells": [
  {
   "cell_type": "code",
   "execution_count": 1,
   "metadata": {
    "collapsed": true
   },
   "outputs": [],
   "source": [
    "from qulacs import QuantumState\n",
    "from qulacs.gate import Identity, X, Y, Z #パウリ演算子\n",
    "from qulacs.gate import H, S, Sdag, sqrtXdag, sqrtY, sqrtYdag # 1量子ビットClifford演算\n",
    "from qulacs.gate import T,Tdag #1量子ビット 非Clifford演算\n",
    "from qulacs.gate import RX,RY,RZ #パウリ演算子についての回転演算\n",
    "from qulacs.gate import CNOT, CZ, SWAP #2量子ビット演算\n",
    "from qulacs import QuantumCircuit\n",
    "import matplotlib.pyplot as plt\n",
    "import numpy as np"
   ]
  },
  {
   "cell_type": "markdown",
   "source": [
    "## 一番簡単なNoise Mitigationを実装してみる。"
   ],
   "metadata": {
    "collapsed": false
   }
  },
  {
   "cell_type": "code",
   "execution_count": 2,
   "outputs": [],
   "source": [
    "## 理想的な回路の構築\n",
    "nqubits = 1\n",
    "state = QuantumState(nqubits)\n",
    "state.set_zero_state()\n",
    "circuit  = QuantumCircuit(nqubits)\n",
    "circuit.add_H_gate(0)\n",
    "angle = np.pi/2.0\n",
    "circuit.add_gate(RZ(0,angle))\n",
    "circuit.add_H_gate(0)\n",
    "\n",
    "circuit.update_quantum_state(state)"
   ],
   "metadata": {
    "collapsed": false
   }
  },
  {
   "cell_type": "code",
   "execution_count": 3,
   "outputs": [],
   "source": [
    "## 観測量の定義\n",
    "from qulacs import Observable, QuantumState\n",
    "Pauli_product = \"Z 0\"\n",
    "observable = Observable(nqubits)\n",
    "observable.add_operator(1.0,Pauli_product)"
   ],
   "metadata": {
    "collapsed": false
   }
  },
  {
   "cell_type": "code",
   "execution_count": 4,
   "outputs": [
    {
     "name": "stdout",
     "output_type": "stream",
     "text": [
      "1.1102230246251565e-16\n"
     ]
    }
   ],
   "source": [
    "## 期待値の計算\n",
    "ex_value = observable.get_expectation_value(state)\n",
    "print(ex_value)"
   ],
   "metadata": {
    "collapsed": false
   }
  },
  {
   "cell_type": "markdown",
   "source": [
    "## サンプリングによる期待値の評価"
   ],
   "metadata": {
    "collapsed": false
   }
  },
  {
   "cell_type": "code",
   "execution_count": 5,
   "outputs": [],
   "source": [
    "from qulacs.gate import P0, P1\n",
    "meas_ope = P0(0) #0番目の量子ビットに作用する|0>への射影演算子\n",
    "meas_ope.update_quantum_state(state)"
   ],
   "metadata": {
    "collapsed": false
   }
  },
  {
   "cell_type": "code",
   "execution_count": 6,
   "outputs": [
    {
     "name": "stdout",
     "output_type": "stream",
     "text": [
      "0.4999999999999999\n"
     ]
    }
   ],
   "source": [
    "# 確率計算は`get_norm()`\n",
    "prob_zero = state.get_squared_norm()\n",
    "print(prob_zero)"
   ],
   "metadata": {
    "collapsed": false
   }
  },
  {
   "cell_type": "code",
   "execution_count": 7,
   "outputs": [],
   "source": [
    "# 測定結果をサンプルして返す関数を定義する\n",
    "import random\n",
    "def sample(prob_zero):\n",
    "    if random.random() < prob_zero:\n",
    "        return 0\n",
    "    else:\n",
    "        return 1"
   ],
   "metadata": {
    "collapsed": false
   }
  },
  {
   "cell_type": "markdown",
   "source": [
    "## 干渉を見る"
   ],
   "metadata": {
    "collapsed": false
   }
  },
  {
   "cell_type": "code",
   "execution_count": 8,
   "outputs": [],
   "source": [
    "def interferometer(phase, num_sample):\n",
    "    nqubits = 1\n",
    "    state = QuantumState(nqubits)\n",
    "    state.set_zero_state()\n",
    "\n",
    "    circuit = QuantumCircuit(nqubits)\n",
    "    circuit.add_H_gate(0)\n",
    "    angle = phase\n",
    "    circuit.add_gate(RZ(0, angle))\n",
    "    circuit.add_H_gate(0)\n",
    "    circuit.update_quantum_state(state)\n",
    "\n",
    "    meas_ope = P0(0) # 0番目の量子ビットに作用する|0>への射影演算子\n",
    "    meas_ope.update_quantum_state(state)\n",
    "\n",
    "    prob_zero = state.get_squared_norm()\n",
    "\n",
    "    mean_value = 0.0\n",
    "    for i in range(num_sample):\n",
    "        mean_value = mean_value + (1 - 2*sample(prob_zero))\n",
    "    mean_value = mean_value / num_sample\n",
    "    return  mean_value"
   ],
   "metadata": {
    "collapsed": false
   }
  },
  {
   "cell_type": "code",
   "execution_count": 9,
   "outputs": [],
   "source": [
    "result = []\n",
    "\n",
    "for i in range(100):\n",
    "    phase = i * np.pi / 100.0\n",
    "    result.append(interferometer(phase, 100))"
   ],
   "metadata": {
    "collapsed": false
   }
  },
  {
   "cell_type": "code",
   "execution_count": 10,
   "outputs": [
    {
     "data": {
      "text/plain": "[<matplotlib.lines.Line2D at 0x12fe64220>]"
     },
     "execution_count": 10,
     "metadata": {},
     "output_type": "execute_result"
    },
    {
     "data": {
      "text/plain": "<Figure size 432x288 with 1 Axes>",
      "image/png": "[encoded data removed]"
     },
     "metadata": {
      "needs_background": "light"
     },
     "output_type": "display_data"
    }
   ],
   "source": [
    "import matplotlib.pyplot as plt\n",
    "plt.plot(result)"
   ],
   "metadata": {
    "collapsed": false
   }
  },
  {
   "cell_type": "code",
   "execution_count": 11,
   "outputs": [
    {
     "data": {
      "text/plain": "[<matplotlib.lines.Line2D at 0x13000a790>]"
     },
     "execution_count": 11,
     "metadata": {},
     "output_type": "execute_result"
    },
    {
     "data": {
      "text/plain": "<Figure size 432x288 with 1 Axes>",
      "image/png": "[encoded data removed]"
     },
     "metadata": {
      "needs_background": "light"
     },
     "output_type": "display_data"
    }
   ],
   "source": [
    "result = []\n",
    "for i in range(100):\n",
    "    phase = i * np.pi / 100.0\n",
    "    result.append(interferometer(phase, 10000))\n",
    "\n",
    "import matplotlib.pyplot as plt\n",
    "plt.plot(result)"
   ],
   "metadata": {
    "collapsed": false
   }
  },
  {
   "cell_type": "markdown",
   "source": [
    "## ノイズの導入\n",
    "量子回路におけるノイズを導入しよう。qulacsではノイズ（一般的なCPTP写像）の実装がなされている。あらかじめ定義されているノイズは、BitFlipNoise, DephasingNoise, IndepenedentXZNoise, DepolarizingNoise。\n",
    "\n",
    "位相緩和、DephasingNoiseを入れてみよう。"
   ],
   "metadata": {
    "collapsed": false
   }
  },
  {
   "cell_type": "code",
   "execution_count": 12,
   "outputs": [],
   "source": [
    "from qulacs.gate import DephasingNoise"
   ],
   "metadata": {
    "collapsed": false
   }
  },
  {
   "cell_type": "code",
   "execution_count": 13,
   "outputs": [
    {
     "name": "stdout",
     "output_type": "stream",
     "text": [
      "[0.70710678+0.j 0.70710678+0.j]\n"
     ]
    }
   ],
   "source": [
    "nqubits = 1\n",
    "state = QuantumState(nqubits)\n",
    "state.set_zero_state\n",
    "H(0).update_quantum_state(state)\n",
    "DephasingNoise(0, 0.5).update_quantum_state(state)\n",
    "print(state.get_vector())"
   ],
   "metadata": {
    "collapsed": false
   }
  },
  {
   "cell_type": "code",
   "execution_count": 14,
   "outputs": [],
   "source": [
    "# 位相緩和が入った干渉をみてみる\n",
    "def noisy_interferometer(phase, num_sample, dephasing_rate):\n",
    "    nqubits = 1\n",
    "    state = QuantumState(nqubits)\n",
    "\n",
    "    mean_value = 0.0\n",
    "    for i in range(num_sample):\n",
    "        state.set_zero_state()\n",
    "        circuit = QuantumCircuit(nqubits)\n",
    "        H(0).update_quantum_state(state)\n",
    "        RZ(0, phase).update_quantum_state(state)\n",
    "        DephasingNoise(0, dephasing_rate).update_quantum_state(state)\n",
    "        H(0).update_quantum_state(state)\n",
    "        P0(0).update_quantum_state(state)\n",
    "\n",
    "        prob_zero = state.get_squared_norm()\n",
    "        mean_value = mean_value + (1 - 2*sample(prob_zero))\n",
    "    mean_value = mean_value / num_sample\n",
    "    return  mean_value"
   ],
   "metadata": {
    "collapsed": false
   }
  },
  {
   "cell_type": "code",
   "execution_count": 15,
   "outputs": [
    {
     "data": {
      "text/plain": "[<matplotlib.lines.Line2D at 0x13057c970>]"
     },
     "execution_count": 15,
     "metadata": {},
     "output_type": "execute_result"
    },
    {
     "data": {
      "text/plain": "<Figure size 432x288 with 1 Axes>",
      "image/png": "[encoded data removed]"
     },
     "metadata": {
      "needs_background": "light"
     },
     "output_type": "display_data"
    }
   ],
   "source": [
    "result = []\n",
    "for i in range(100):\n",
    "    phase = i * np.pi / 100.0\n",
    "    result.append(noisy_interferometer(phase, 1000, 0.1))\n",
    "\n",
    "plt.plot(result)"
   ],
   "metadata": {
    "collapsed": false
   }
  },
  {
   "cell_type": "code",
   "execution_count": 17,
   "outputs": [
    {
     "data": {
      "text/plain": "[<matplotlib.lines.Line2D at 0x130beef10>]"
     },
     "execution_count": 17,
     "metadata": {},
     "output_type": "execute_result"
    },
    {
     "data": {
      "text/plain": "<Figure size 432x288 with 1 Axes>",
      "image/png": "[encoded data removed]"
     },
     "metadata": {
      "needs_background": "light"
     },
     "output_type": "display_data"
    }
   ],
   "source": [
    "result = []\n",
    "for i in range(10):\n",
    "    result.append(noisy_interferometer(np.pi / 4.0 - 0.1, 10000, 0.05 + 0.01 * i))\n",
    "plt.plot(result)"
   ],
   "metadata": {
    "collapsed": false
   }
  },
  {
   "cell_type": "code",
   "execution_count": 18,
   "outputs": [
    {
     "name": "stdout",
     "output_type": "stream",
     "text": [
      "[0.7022, 0.679, 0.6636, 0.6672, 0.6412, 0.6242, 0.6026, 0.5882, 0.5644, 0.5628]\n"
     ]
    }
   ],
   "source": [
    "print(result)"
   ],
   "metadata": {
    "collapsed": false
   }
  },
  {
   "cell_type": "markdown",
   "source": [
    "## データをフィッティングしてノイズパラメータが0の時の期待値を外挿して求める"
   ],
   "metadata": {
    "collapsed": false
   }
  },
  {
   "cell_type": "code",
   "execution_count": 19,
   "outputs": [],
   "source": [
    "a, b = np.polyfit([0.05 + 0.01 * i for i in range(10)], result, 1)"
   ],
   "metadata": {
    "collapsed": false
   }
  },
  {
   "cell_type": "code",
   "execution_count": 20,
   "outputs": [
    {
     "name": "stdout",
     "output_type": "stream",
     "text": [
      "-1.6027878787878778 0.7818048484848481\n"
     ]
    }
   ],
   "source": [
    "print(a, b)"
   ],
   "metadata": {
    "collapsed": false
   }
  },
  {
   "cell_type": "code",
   "execution_count": 21,
   "outputs": [
    {
     "data": {
      "text/plain": "[<matplotlib.lines.Line2D at 0x13139e7f0>]"
     },
     "execution_count": 21,
     "metadata": {},
     "output_type": "execute_result"
    },
    {
     "data": {
      "text/plain": "<Figure size 432x288 with 1 Axes>",
      "image/png": "[encoded data removed]"
     },
     "metadata": {
      "needs_background": "light"
     },
     "output_type": "display_data"
    }
   ],
   "source": [
    "plt.plot([0.05 + 0.01 * i for i in range(10)], result)\n",
    "x = np.arange(0, 0.2, 0.01)\n",
    "y = a * x + b\n",
    "plt.plot(x, y)"
   ],
   "metadata": {
    "collapsed": false
   }
  },
  {
   "cell_type": "markdown",
   "source": [
    "ノイズパラメータが0の時の期待値は、・・・。5%のノイズのあるサンプリング結果は、"
   ],
   "metadata": {
    "collapsed": false
   }
  },
  {
   "cell_type": "code",
   "execution_count": 22,
   "outputs": [
    {
     "data": {
      "text/plain": "0.6942"
     },
     "execution_count": 22,
     "metadata": {},
     "output_type": "execute_result"
    }
   ],
   "source": [
    "noisy_interferometer(np.pi / 4.0 - 0.1, 10000, 0.05)"
   ],
   "metadata": {
    "collapsed": false
   }
  },
  {
   "cell_type": "code",
   "execution_count": 23,
   "outputs": [],
   "source": [
    "# 理想的な結果は、\n",
    "def ideal_interferometer(phase):\n",
    "    nqubits = 1\n",
    "    state = QuantumState(nqubits)\n",
    "    state.set_zero_state()\n",
    "\n",
    "    circuit = QuantumCircuit(nqubits)\n",
    "    circuit.add_H_gate(0)\n",
    "    angle = phase\n",
    "    circuit.add_gate(RZ(0, angle))\n",
    "    circuit.add_H_gate(0)\n",
    "    circuit.update_quantum_state(state)\n",
    "\n",
    "    Pauli_product = \"Z 0\"\n",
    "    observable = Observable(nqubits)\n",
    "    observable.add_operator(1.0, Pauli_product)\n",
    "    ex_value = observable.get_expectation_value(state)\n",
    "    return  ex_value"
   ],
   "metadata": {
    "collapsed": false
   }
  },
  {
   "cell_type": "code",
   "execution_count": 24,
   "outputs": [
    {
     "data": {
      "text/plain": "0.7741670784769461"
     },
     "execution_count": 24,
     "metadata": {},
     "output_type": "execute_result"
    }
   ],
   "source": [
    "ideal_interferometer(np.pi / 4.0 - 0.1)"
   ],
   "metadata": {
    "collapsed": false
   }
  },
  {
   "cell_type": "markdown",
   "source": [
    "## 指数関数によるフィッティング"
   ],
   "metadata": {
    "collapsed": false
   }
  },
  {
   "cell_type": "code",
   "execution_count": 29,
   "outputs": [],
   "source": [
    "def ideal_circuit():\n",
    "    np.random.seed(0) #乱数のシードを固定する\n",
    "\n",
    "    nqubits = 5\n",
    "    depth = 5\n",
    "\n",
    "    angles = [np.random.random() for i in range(nqubits*depth)]\n",
    "    state = QuantumState(nqubits)\n",
    "    state.set_zero_state\n",
    "\n",
    "    circuit  = QuantumCircuit(nqubits)\n",
    "    l=0\n",
    "    for j in range(depth):\n",
    "        for i in range(nqubits):\n",
    "            circuit.add_H_gate(i)\n",
    "            circuit.add_gate(RZ(i,angles[l]*np.pi))\n",
    "            l=l+1;\n",
    "\n",
    "        for i in range(nqubits-1):\n",
    "            circuit.add_gate(CZ(i,i+1))\n",
    "\n",
    "    for i in range(nqubits):\n",
    "        circuit.add_H_gate(i)\n",
    "\n",
    "    circuit.update_quantum_state(state)\n",
    "\n",
    "    Pauli_product = \"Z 0\"\n",
    "    observable = Observable(nqubits)\n",
    "    observable.add_operator(1.0,Pauli_product)\n",
    "    ex_value = observable.get_expectation_value(state)\n",
    "    return  ex_value"
   ],
   "metadata": {
    "collapsed": false
   }
  },
  {
   "cell_type": "code",
   "execution_count": 30,
   "outputs": [
    {
     "data": {
      "text/plain": "-0.04191960457711601"
     },
     "execution_count": 30,
     "metadata": {},
     "output_type": "execute_result"
    }
   ],
   "source": [
    "ideal_circuit()"
   ],
   "metadata": {
    "collapsed": false
   }
  },
  {
   "cell_type": "markdown",
   "source": [
    "ノイズを含んだサンプリングバージョンを定義する"
   ],
   "metadata": {
    "collapsed": false
   }
  },
  {
   "cell_type": "code",
   "execution_count": 33,
   "outputs": [],
   "source": [
    "from qulacs.gate import DepolarizingNoise\n",
    "\n",
    "def noisy_circuit(num_sample,depo_rate):\n",
    "    nqubits = 5\n",
    "    depth = 5\n",
    "    np.random.seed(0) #乱数のシードを固定する\n",
    "    angles = [np.random.random() for i in range(nqubits*depth)]\n",
    "    state = QuantumState(nqubits)\n",
    "\n",
    "    mean_value =0.0\n",
    "\n",
    "    for k in range(num_sample):\n",
    "        circuit  = QuantumCircuit(nqubits)\n",
    "        state.set_zero_state()\n",
    "        l=0\n",
    "        for j in range(depth):\n",
    "            for i in range(nqubits):\n",
    "                H(i).update_quantum_state(state)\n",
    "                DepolarizingNoise(i,depo_rate).update_quantum_state(state)\n",
    "\n",
    "                RZ(i,angles[l]*np.pi).update_quantum_state(state)\n",
    "                DepolarizingNoise(i,depo_rate).update_quantum_state(state)\n",
    "                l=l+1\n",
    "\n",
    "            for i in range(nqubits-1):\n",
    "                CZ(i,i+1).update_quantum_state(state)\n",
    "                DepolarizingNoise(i,depo_rate).update_quantum_state(state)\n",
    "                DepolarizingNoise(i+1,depo_rate).update_quantum_state(state)\n",
    "\n",
    "        for i in range(nqubits):\n",
    "            H(i).update_quantum_state(state)\n",
    "\n",
    "        P0(0).update_quantum_state(state)\n",
    "\n",
    "        # prob_zero = state.get_norm()\n",
    "        prob_zero = state.get_squared_norm()\n",
    "\n",
    "        mean_value = mean_value +(1-2*sample(prob_zero))\n",
    "\n",
    "    mean_value = mean_value/num_sample\n",
    "    return  mean_value"
   ],
   "metadata": {
    "collapsed": false
   }
  },
  {
   "cell_type": "code",
   "execution_count": 34,
   "outputs": [
    {
     "data": {
      "text/plain": "-0.024"
     },
     "execution_count": 34,
     "metadata": {},
     "output_type": "execute_result"
    }
   ],
   "source": [
    "noisy_circuit(1000, 0)"
   ],
   "metadata": {
    "collapsed": false
   }
  },
  {
   "cell_type": "code",
   "execution_count": null,
   "outputs": [],
   "source": [],
   "metadata": {
    "collapsed": false
   }
  }
 ],
 "metadata": {
  "kernelspec": {
   "display_name": "Python 3",
   "language": "python",
   "name": "python3"
  },
  "language_info": {
   "codemirror_mode": {
    "name": "ipython",
    "version": 2
   },
   "file_extension": ".py",
   "mimetype": "text/x-python",
   "name": "python",
   "nbconvert_exporter": "python",
   "pygments_lexer": "ipython2",
   "version": "2.7.6"
  }
 },
 "nbformat": 4,
 "nbformat_minor": 0
}
