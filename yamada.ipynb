{
 "cells": [
  {
   "cell_type": "code",
   "execution_count": 1,
   "metadata": {},
   "outputs": [],
   "source": [
    "# ライブラリのインポート\n",
    "import matplotlib.pyplot as plt\n",
    "import numpy as np\n",
    "import math\n",
    "import time\n",
    "import random\n",
    "from qulacs import QuantumState\n",
    "from qulacs.state import inner_product\n",
    "from qulacs import QuantumCircuit\n",
    "from qulacs.gate import to_matrix_gate\n",
    "from qulacs import QuantumState\n",
    "from qulacs.gate import Identity, X,Y,Z #パウリ演算子\n",
    "from qulacs.gate import H\n",
    "from qulacs.gate import RX,RY,RZ #パウリ演算子についての回転演算\n",
    "\n",
    "from qulacs.gate import BitFlipNoise"
   ]
  },
  {
   "cell_type": "markdown",
   "metadata": {},
   "source": [
    "## 係数の絶対値の分布をプロットする関数"
   ]
  },
  {
   "cell_type": "code",
   "execution_count": 2,
   "metadata": {},
   "outputs": [],
   "source": [
    "def show_distribution(state, nqubits):\n",
    "    plt.bar([i for i in range(2, nqubits)], abs(state.get_vector()))\n",
    "    plt.show()\n",
    "\n",
    "nqubits = 5\n",
    "a = []\n",
    "b = []\n",
    "sample = 10000\n",
    "problist = [0,0.1,0.2,0.3,0.4,0.5,0.6,0.7,0.8,0.9,1.0]"
   ]
  },
  {
   "cell_type": "markdown",
   "metadata": {},
   "source": [
    "ここで、problistは・・・"
   ]
  },
  {
   "cell_type": "code",
   "execution_count": 3,
   "metadata": {},
   "outputs": [],
   "source": [
    "state = QuantumState(nqubits)\n",
    "state.set_zero_state()\n",
    "\n",
    "def make_Hadamard(nqubits):\n",
    "    Hadamard = QuantumCircuit(nqubits)\n",
    "    for i in range(nqubits):\n",
    "        Hadamard.add_gate(H(i))\n",
    "    return Hadamard\n",
    "\n",
    "def make_U_w(nqubits):\n",
    "    U_w = QuantumCircuit(nqubits)\n",
    "    CnZ = to_matrix_gate(Z(nqubits - 1))\n",
    "    # i - th qubitが全て1の場合だけゲートを作用\n",
    "    for i in range(nqubits - 1):\n",
    "        control_index = i\n",
    "        control_with_value = 1\n",
    "        CnZ.add_control_qubit(control_index, control_with_value)\n",
    "    U_w.add_gate(CnZ)\n",
    "    return U_w\n",
    "\n",
    "for i in problist:\n",
    "    prob = i\n",
    "    def make_U_s(nqubits):\n",
    "        U_s = QuantumCircuit(nqubits)\n",
    "        for i in range(nqubits):\n",
    "            U_s.add_gate(H(i))\n",
    "\n",
    "        # ノイズの準備\n",
    "        index1 = 0\n",
    "        index2 = prob\n",
    "        #print(index1, index2\n",
    "        Dphe_gate = DepphasingNoise(index1, index2)\n",
    "\n",
    "        ## 内積を評価するために、解状態|1...1>を作っておく\n",
    "        target_state = QuantumState(nqubits)\n",
    "        target_state.set_computational_basis(2 ** nqubits - 1)\n",
    "\n",
    "        ## グローバーのアルゴリズムの実行\n",
    "        Hadamard = make_Hadamard(nqubits)\n",
    "        U_w = make_U_w(nqubits)\n",
    "        U_s = make_U_s(nqubits)\n",
    "\n",
    "        result = []\n",
    "        data2 = []\n",
    "        # nqubits毎の反復回数\n",
    "        ans = [1,1,2,3,4,6,8,12,17,25,35,50,71,100,142,201,284]\n",
    "        c = ans[nqubits - 1]\n",
    "        print(c)\n",
    "\n",
    "        state = QuantumState(nqubits)\n",
    "        state.set_zero_state()\n",
    "        Hadamard.update_quantum_state(state)\n",
    "        for j in range(10):\n",
    "            state = QuantumState(nqubits)\n",
    "            state.set_zero_state()\n",
    "            Hadamard.update_quantum_state(state)\n",
    "            result = []\n",
    "            data1 = []\n",
    "            for k in range(c):\n",
    "                Dphe_gate.update_quantum_state(state)\n",
    "                U_w.update_quantum_state(state)\n",
    "                U_s.update_quantum_state(state)\n",
    "                if k == c:\n",
    "                    data1.append(np.linalg.norm(inner_product(state, target_state)))\n",
    "            x = data2.append(np.linalg.norm(inner_product(state, target_state)))\n",
    "\n",
    "        a.append(np.mean(data2))\n",
    "        b.append(np.std(data2))\n",
    "        print(prob)"
   ]
  },
  {
   "cell_type": "code",
   "execution_count": null,
   "outputs": [],
   "source": [],
   "metadata": {
    "collapsed": false
   }
  }
 ],
 "metadata": {
  "kernelspec": {
   "display_name": "Python 3 (ipykernel)",
   "language": "python",
   "name": "python3"
  },
  "language_info": {
   "codemirror_mode": {
    "name": "ipython",
    "version": 3
   },
   "file_extension": ".py",
   "mimetype": "text/x-python",
   "name": "python",
   "nbconvert_exporter": "python",
   "pygments_lexer": "ipython3",
   "version": "3.9.13"
  },
  "vscode": {
   "interpreter": {
    "hash": "9eb6511b5058d298ab93757724c483e06cf753eb8a18c90f785a5ce3f44f72ec"
   }
  }
 },
 "nbformat": 4,
 "nbformat_minor": 2
}
