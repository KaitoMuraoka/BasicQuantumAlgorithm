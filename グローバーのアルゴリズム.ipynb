{
 "cells": [
  {
   "cell_type": "code",
   "execution_count": 1,
   "metadata": {},
   "outputs": [
    {
     "ename": "ModuleNotFoundError",
     "evalue": "No module named 'scipy'",
     "output_type": "error",
     "traceback": [
      "\u001B[0;31m---------------------------------------------------------------------------\u001B[0m",
      "\u001B[0;31mModuleNotFoundError\u001B[0m                       Traceback (most recent call last)",
      "Input \u001B[0;32mIn [1]\u001B[0m, in \u001B[0;36m<cell line: 6>\u001B[0;34m()\u001B[0m\n\u001B[1;32m      4\u001B[0m \u001B[38;5;28;01mimport\u001B[39;00m \u001B[38;5;21;01mtime\u001B[39;00m\n\u001B[1;32m      5\u001B[0m \u001B[38;5;28;01mimport\u001B[39;00m \u001B[38;5;21;01mrandom\u001B[39;00m\n\u001B[0;32m----> 6\u001B[0m \u001B[38;5;28;01mfrom\u001B[39;00m \u001B[38;5;21;01mqulacs\u001B[39;00m \u001B[38;5;28;01mimport\u001B[39;00m QuantumState\n\u001B[1;32m      7\u001B[0m \u001B[38;5;28;01mfrom\u001B[39;00m \u001B[38;5;21;01mqulacs\u001B[39;00m\u001B[38;5;21;01m.\u001B[39;00m\u001B[38;5;21;01mstate\u001B[39;00m \u001B[38;5;28;01mimport\u001B[39;00m inner_product\n\u001B[1;32m      8\u001B[0m \u001B[38;5;28;01mfrom\u001B[39;00m \u001B[38;5;21;01mqulacs\u001B[39;00m \u001B[38;5;28;01mimport\u001B[39;00m QuantumCircuit\n",
      "File \u001B[0;32m~/.julia/conda/3/lib/python3.9/site-packages/qulacs/__init__.py:3\u001B[0m, in \u001B[0;36m<module>\u001B[0;34m\u001B[0m\n\u001B[1;32m      1\u001B[0m \u001B[38;5;28;01mfrom\u001B[39;00m \u001B[38;5;21;01mqulacs_core\u001B[39;00m \u001B[38;5;28;01mimport\u001B[39;00m \u001B[38;5;241m*\u001B[39m\n\u001B[0;32m----> 3\u001B[0m \u001B[38;5;28;01mimport\u001B[39;00m \u001B[38;5;21;01mqulacs\u001B[39;00m\u001B[38;5;21;01m.\u001B[39;00m\u001B[38;5;21;01mobservable\u001B[39;00m\u001B[38;5;21;01m.\u001B[39;00m\u001B[38;5;21;01m_get_matrix\u001B[39;00m\n\u001B[1;32m      5\u001B[0m Observable\u001B[38;5;241m.\u001B[39mget_matrix \u001B[38;5;241m=\u001B[39m \\\n\u001B[1;32m      6\u001B[0m     \u001B[38;5;28;01mlambda\u001B[39;00m obs: qulacs\u001B[38;5;241m.\u001B[39mobservable\u001B[38;5;241m.\u001B[39m_get_matrix\u001B[38;5;241m.\u001B[39m_get_matrix(obs)\n\u001B[1;32m      8\u001B[0m GeneralQuantumOperator\u001B[38;5;241m.\u001B[39mget_matrix \u001B[38;5;241m=\u001B[39m \\\n\u001B[1;32m      9\u001B[0m     \u001B[38;5;28;01mlambda\u001B[39;00m obs: qulacs\u001B[38;5;241m.\u001B[39mobservable\u001B[38;5;241m.\u001B[39m_get_matrix\u001B[38;5;241m.\u001B[39m_get_matrix(obs)\n",
      "File \u001B[0;32m~/.julia/conda/3/lib/python3.9/site-packages/qulacs/observable/_get_matrix.py:2\u001B[0m, in \u001B[0;36m<module>\u001B[0;34m\u001B[0m\n\u001B[1;32m      1\u001B[0m \u001B[38;5;28;01mfrom\u001B[39;00m \u001B[38;5;21;01mqulacs_core\u001B[39;00m\u001B[38;5;21;01m.\u001B[39;00m\u001B[38;5;21;01mobservable\u001B[39;00m \u001B[38;5;28;01mimport\u001B[39;00m \u001B[38;5;241m*\u001B[39m\n\u001B[0;32m----> 2\u001B[0m \u001B[38;5;28;01mfrom\u001B[39;00m \u001B[38;5;21;01mscipy\u001B[39;00m\u001B[38;5;21;01m.\u001B[39;00m\u001B[38;5;21;01msparse\u001B[39;00m \u001B[38;5;28;01mimport\u001B[39;00m csr_matrix, kron\n\u001B[1;32m      3\u001B[0m \u001B[38;5;28;01mimport\u001B[39;00m \u001B[38;5;21;01mnumpy\u001B[39;00m \u001B[38;5;28;01mas\u001B[39;00m \u001B[38;5;21;01mnp\u001B[39;00m\n\u001B[1;32m      5\u001B[0m sigmaz \u001B[38;5;241m=\u001B[39m csr_matrix([[\u001B[38;5;241m1\u001B[39m, \u001B[38;5;241m0\u001B[39m], [\u001B[38;5;241m0\u001B[39m, \u001B[38;5;241m-\u001B[39m\u001B[38;5;241m1\u001B[39m]])\n",
      "\u001B[0;31mModuleNotFoundError\u001B[0m: No module named 'scipy'"
     ]
    }
   ],
   "source": [
    "## ライブラリのインポート\n",
    "import matplotlib.pyplot as plt\n",
    "import numpy as np\n",
    "import time\n",
    "import random\n",
    "from qulacs import QuantumState\n",
    "from qulacs.state import inner_product\n",
    "from qulacs import QuantumCircuit\n",
    "from qulacs.gate import to_matrix_gate\n",
    "from qulacs import QuantumState\n",
    "from qulacs.gate import Identity, X,Y,Z #パウリ演算子\n",
    "from qulacs.gate import H\n",
    "from qulacs.gate import RX,RY,RZ #パウリ演算子についての回転演算\n",
    "\n",
    "## Google Colaboratory / (Linux or Mac)のjupyter notebook 環境の場合にのみ実行してください。\n",
    "## Qulacsのエラーが正常に出力されるようになります。\n",
    "# !pip3 install wurlitzer\n",
    "%load_ext wurlitzer"
   ]
  },
  {
   "cell_type": "code",
   "execution_count": null,
   "metadata": {},
   "outputs": [],
   "source": [
    "## 係数の絶対値の分布をプロットする関数\n",
    "def show_distribution(state, nqubits):\n",
    "    plt.bar([i for i in range(pow(2, nqubits))], abs(state.get_vector()))\n",
    "    plt.show()"
   ]
  },
  {
   "cell_type": "markdown",
   "metadata": {},
   "source": [
    "## 動作の確認\n",
    "まずは5量子ビットでグローバーのアルゴリズムを実装し、動作を確認してみる。\n",
    "\n",
    "全ての状態の重ね合わせ状態$\\ket{s}$は状態$\\ket{0 \\cdots 0}$の全てのビッチにアダマールゲートを作用させることで作れる"
   ]
  },
  {
   "cell_type": "markdown",
   "metadata": {},
   "source": [
    "### 全ての状態の重ね合わせ状態$| s \\rangle = \\frac{1}{\\sqrt{N}} \\sum_x | x \\rangle$を用意する。\n",
    "\n",
    "初期状態$| 0 \\cdots 0 \\rangle$に対して全ての量子ビットにアダマールゲート$H$をかける。\n",
    "\n",
    "$$\n",
    "    (H \\otimes \\cdots \\otimes H)\\ket{0 \\cdots 0} = \\frac{1}{(\\sqrt{2})^n}(\\ket{0} + \\ket{1}) \\otimes \\cdots \\otimes (\\ket{0} + \\ket{1}) = \\ket{s}\n",
    "$$"
   ]
  },
  {
   "cell_type": "code",
   "execution_count": null,
   "metadata": {},
   "outputs": [],
   "source": [
    "nqubits = 5\n",
    "state = QuantumState(nqubits)\n",
    "state.set_zero_state()\n",
    "\n",
    "def make_Hadamard(nqubits):\n",
    "    Hadamard = QuantumCircuit(nqubits)\n",
    "    for i in range(nqubits):\n",
    "        Hadamard.add_gate(H(i))\n",
    "    return Hadamard\n",
    "\n",
    "Hadamard = make_Hadamard(nqubits)\n",
    "Hadamard.update_quantum_state(state)\n",
    "\n",
    "show_distribution(state, nqubits)"
   ]
  },
  {
   "cell_type": "code",
   "execution_count": null,
   "metadata": {},
   "outputs": [],
   "source": [
    "a = np.sqrt(2)\n",
    "hoge = 1 / a\n",
    "piyo = hoge ** nqubits\n",
    "print(hoge)\n",
    "print(piyo)"
   ]
  },
  {
   "cell_type": "markdown",
   "metadata": {},
   "source": [
    "### オラクル$U_w$（界に対する反転操作）を作用させる\n",
    "\n",
    "「入力$\\ket{x}$に対して$x$が解なら$-1$をかけて位相を反転し、解でないなら何もしない」という演算を考えることにする。\n",
    "\n",
    "$$\n",
    "    U_w = I - 2\\sum_{w \\in \\text{解}} \\ket{w}\\bra{w} \\\\\n",
    "    U_w \\ket{x} = \\left\\{\n",
    "\\begin{array}{ll}\n",
    "\\ket{x} (\\text{x is not solution}) \\\\\n",
    " - \\ket{x} (\\text{x is solution})\n",
    "\\end{array}\n",
    "\\right.\n",
    "$$\n",
    "と定義する。入力が解である時にだけ位相を反転させるので、オラクル$U_w$は「解に対する反転操作」と呼ばれる。"
   ]
  },
  {
   "cell_type": "markdown",
   "metadata": {},
   "source": [
    "次にオラクル$U_w$を作る。ここでは、$\\ket{1 \\cdots 1}$を解として設定し、$\\ket{1 \\cdots 1}$のみに位相(-1)をつける演算子を作る。\n",
    "\n"
   ]
  },
  {
   "cell_type": "markdown",
   "metadata": {},
   "source": [
    "このような演算子は、「0番目から`nqubits`-1番目までの量子ビットが全て1の場合に`nqubits`番目の量子ビットに$Z$ゲートを作用させる演算子」として実装できる。\n"
   ]
  },
  {
   "cell_type": "code",
   "execution_count": null,
   "metadata": {},
   "outputs": [],
   "source": [
    "def make_U_w(nqubits):\n",
    "    U_w = QuantumCircuit(nqubits)\n",
    "    CnZ = to_matrix_gate(Z(nqubits - 1))\n",
    "    # i - th qubitが全て1の場合だけゲートを作用\n",
    "    for i in range(nqubits - 1):\n",
    "        control_index = i\n",
    "        control_with_value = 1\n",
    "        CnZ.add_control_qubit(control_index, control_with_value)\n",
    "    U_w.add_gate(CnZ)\n",
    "    return U_w"
   ]
  },
  {
   "cell_type": "code",
   "execution_count": null,
   "metadata": {},
   "outputs": [],
   "source": [
    "hoge = state.copy()\n",
    "U_w = make_U_w(nqubits)\n",
    "U_w.update_quantum_state(hoge)\n",
    "print(hoge.get_vector())"
   ]
  },
  {
   "cell_type": "markdown",
   "metadata": {},
   "source": [
    "## $\\ket{s}$を対象軸にした反転操作$U_s$を作用させる。\n",
    "\n",
    "ステップ2では解に対する反転操作を考えたが、ステップ3では全ての状態の重ね合わせ$\\ket{s}$を対象じくにした反転操作$U_s$を作用させる。\n",
    "$$\n",
    "    U_s = 2 \\ket{s}\\bra{s} - I\n",
    "$$\n",
    "\n",
    "この演算子は、入力状態$\\ket{\\psi} = a \\ket{s} + b \\ket{s_{\\perp}}$($\\ket{s_{\\perp}}$は$\\ket{s}$に直行するベクトル)に対して、\n",
    "$$\n",
    "    U_s \\ket{\\psi} = a \\ket{s} - b \\ket{s_{\\perp}}\n",
    "$$\n",
    "と作用し、$\\ket{s_{\\perp}}$に比例する部分の位相だけを反転する"
   ]
  },
  {
   "cell_type": "markdown",
   "metadata": {},
   "source": [
    "同様に、$\\ket{s}$を対象軸にした反転$U_s$を作る。\n",
    "以下の式が成り立つことを使う。\n",
    "\n",
    "$$\n",
    "U_s = 2 \\ket{s}\\bra{s} - I = H^{\\otimes n}(2 \\ket{0 \\cdots 0}\\bra{0 \\cdots 0} - I)H^{\\otimes n}"
   ]
  },
  {
   "cell_type": "code",
   "execution_count": null,
   "metadata": {},
   "outputs": [],
   "source": [
    "from re import U\n",
    "\n",
    "\n",
    "def make_U_s(nqubits):\n",
    "    U_s = QuantumCircuit(nqubits)\n",
    "    for i in range(nqubits):\n",
    "        U_s.add_gate(H(i))\n",
    "\n",
    "    ## 2|0><0| - I の実装\n",
    "    U_s.add_gate(to_matrix_gate(RZ(nqubits - 1, 2 * np.pi)))\n",
    "    U_s.add_gate(X(nqubits - 1))\n",
    "    ## 全てのi-th　qubitが0の場合だけZゲートを作用させる\n",
    "    CnZ = to_matrix_gate(Z(nqubits - 1))\n",
    "    for i in range(nqubits - 1):\n",
    "        control_index = i\n",
    "        control_with_value = 0\n",
    "        CnZ.add_control_qubit(control_index, control_with_value)\n",
    "    U_s.add_gate(CnZ)\n",
    "    U_s.add_gate(X(nqubits - 1))\n",
    "\n",
    "    for i in range(nqubits):\n",
    "        U_s.add_gate(H(i))\n",
    "\n",
    "    return U_s"
   ]
  },
  {
   "cell_type": "markdown",
   "metadata": {},
   "source": [
    "それでは、$U_s, U_w$を一回だけ作用させて確率分布の変化を見てみる。\n",
    "\n",
    "全部1の状態（一番右）の確率が少し大きくなっている"
   ]
  },
  {
   "cell_type": "code",
   "execution_count": null,
   "metadata": {},
   "outputs": [],
   "source": [
    "# 初期状態の準備\n",
    "state = QuantumState(nqubits)\n",
    "state.set_zero_state()\n",
    "Hadamard.update_quantum_state(state)\n",
    "\n",
    "# U_s, U_wを作用\n",
    "U_s = make_U_s(nqubits)\n",
    "U_w.update_quantum_state(state)\n",
    "U_s.update_quantum_state(state)\n",
    "show_distribution(state, nqubits)"
   ]
  },
  {
   "cell_type": "markdown",
   "metadata": {},
   "source": [
    "これを何回か繰り返してみると、"
   ]
  },
  {
   "cell_type": "code",
   "execution_count": null,
   "metadata": {},
   "outputs": [],
   "source": [
    "## 内積を評価するために、解状態|1...1>を作っておく\n",
    "target_state = QuantumState(nqubits)\n",
    "target_state.set_computational_basis(2 ** nqubits - 1) ## 2**n_qubits-1 は 2進数で 1...1\n",
    "\n",
    "## グローバーのアルゴリズムの実行\n",
    "state = QuantumState(nqubits)\n",
    "state.set_zero_state()\n",
    "\n",
    "Hadamard.update_quantum_state(state)\n",
    "\n",
    "for i in range(4):\n",
    "    U_w.update_quantum_state(state)\n",
    "    U_s.update_quantum_state(state)\n",
    "    show_distribution(state, nqubits)\n",
    "    print(np.linalg.norm(inner_product(state, target_state)))"
   ]
  },
  {
   "cell_type": "markdown",
   "metadata": {},
   "source": [
    "$k = 4$回ほどの繰り返しで、ほぼ確率$1$で解を得ることができた。"
   ]
  },
  {
   "cell_type": "markdown",
   "metadata": {},
   "source": [
    "### 最適な回数の見積もり\n",
    "\n",
    "$U_s U_w$を作用させる回数$k$がどのくらいになるか評価する。\n",
    "\n",
    "$(U_s U_w)^k \\ket{s}$が解に最も近くなるのは、$\\frac{2(k + 1)\\theta}{2}$が$\\frac{\\pi}{2}$に近くなる時、すなわち$k$が、\n",
    "$$\n",
    "R = \\text{ClosestInteger}(\\frac{\\pi}{2\\theta} - \\frac{1}{2})\n",
    "$$\n",
    "の時である。ここで、ClosestInteger(...)は...に最も近い整数を表す。\n",
    "\n",
    " Rの上限を評価する。$\\theta > 0$について成り立つ式、\n",
    " $$\n",
    "\\frac{\\theta}{2} \\geq \\sin(\\frac{\\theta}{2}) = \\sqrt{\\frac{M}{N}}\n",
    " $$\n",
    " を使うと、\n",
    " $$\n",
    "R \\leq \\left( \\frac{\\pi}{2\\theta} - \\frac{1}{2} \\right) + 1 = \\frac{\\pi}{2 \\theta} + \\frac{1}{2} \\leq \\frac{\\pi}{4} \\sqrt{\\frac{N}{M}} + \\frac{1}{2}\n",
    " $$\n",
    "\n",
    "となる。"
   ]
  },
  {
   "cell_type": "code",
   "execution_count": null,
   "metadata": {},
   "outputs": [],
   "source": [
    "def estimate_the_optimal_number_of_times(nqubits):\n",
    "    pi = np.pi\n",
    "    MNsqrt = np.sqrt(2 ** nqubits)\n",
    "    result = (pi / 4) * MNsqrt + 1/2\n",
    "    return result"
   ]
  },
  {
   "cell_type": "code",
   "execution_count": null,
   "metadata": {},
   "outputs": [],
   "source": [
    "estimate_the_optimal_number_of_times(5)"
   ]
  },
  {
   "cell_type": "markdown",
   "metadata": {},
   "source": [
    "次に、`nqubits`をもう少し大きくして、$k$に対する出力確率の振る舞いを見てみる。"
   ]
  },
  {
   "cell_type": "code",
   "execution_count": null,
   "metadata": {},
   "outputs": [],
   "source": [
    "nqubits = 10\n",
    "state = QuantumState(nqubits)\n",
    "state.set_zero_state()\n",
    "\n",
    "## 内積を評価するために、解状態|1...1>を作成する\n",
    "target_state = QuantumState(nqubits)\n",
    "target_state.set_computational_basis(2 ** nqubits - 1) ## 2進数で1...1\n",
    "\n",
    "## グローバーのアルゴリズム\n",
    "Hadamard = make_Hadamard(nqubits)\n",
    "U_w = make_U_w(nqubits)\n",
    "U_s = make_U_s(nqubits)\n",
    "\n",
    "result = []\n",
    "\n",
    "state = QuantumState(nqubits)\n",
    "state.set_zero_state()\n",
    "Hadamard.update_quantum_state(state)\n",
    "for k in range(30):\n",
    "    U_w.update_quantum_state(state)\n",
    "    U_s.update_quantum_state(state)\n",
    "    # show_distribution(state.nqubits)\n",
    "    result.append(np.linalg.norm(inner_product(state, target_state)))\n",
    "\n",
    "max_k = np.argmax(result)\n",
    "print(f\"maximal probabillity {result[max_k]: 5e} is obrained at k = {max_k + 1}\")\n",
    "\n",
    "plt.plot(np.arange(1, 30 + 1), result, \"o-\")\n",
    "\n",
    "# // サインカーブ\n"
   ]
  },
  {
   "cell_type": "code",
   "execution_count": null,
   "metadata": {},
   "outputs": [],
   "source": [
    "estimate_the_optimal_number_of_times(10)"
   ]
  },
  {
   "cell_type": "markdown",
   "metadata": {},
   "source": [
    "$k = 25$回でほぼ確率が1でtarget状態が得られている。\n",
    "また、確率の$k$依存性は、「幾何学的な説明」の箇所で見た方に、サイン関数になっている。"
   ]
  },
  {
   "cell_type": "markdown",
   "metadata": {},
   "source": [
    "この処理は関数化できそうなので、関数化してみた。"
   ]
  },
  {
   "cell_type": "code",
   "execution_count": null,
   "metadata": {},
   "outputs": [],
   "source": [
    "def grover(nqubits):\n",
    "    state = QuantumState(nqubits)\n",
    "    state.set_zero_state()\n",
    "    \n",
    "    ## 内積を評価するために、解状態|1...1>を作成する\n",
    "    \n",
    "    target_state = QuantumState(nqubits)\n",
    "    target_state.set_computational_basis(2 ** nqubits - 1) ## 2進数で1...1\n",
    "    \n",
    "    # グローバーのアルゴリズム\n",
    "    Hadamard = make_Hadamard(nqubits)\n",
    "    U_w = make_U_w(nqubits)\n",
    "    U_s = make_U_s(nqubits)\n",
    "\n",
    "    result = []\n",
    "\n",
    "    state = QuantumState(nqubits)\n",
    "    state.set_zero_state()\n",
    "    Hadamard.update_quantum_state(state)\n",
    "    for k in range(30):\n",
    "        U_w.update_quantum_state(state)\n",
    "        U_s.update_quantum_state(state)\n",
    "        # show_distribution(state.nqubits)\n",
    "        result.append(np.linalg.norm(inner_product(state, target_state)))\n",
    "\n",
    "    max_k = np.argmax(result)\n",
    "    text = f\"maximal probabillity {result[max_k]: 5e} is obrained at k = {max_k + 1}\"\n",
    "    # print(f\"maximal probabillity {result[max_k]: 5e} is obrained at k = {max_k + 1}\")\n",
    "    print(text)\n",
    "    plt.title(f'nqubits = {nqubits}:' + text)\n",
    "\n",
    "    plt.plot(np.arange(1, 30 + 1), result, \"o-\")\n",
    "    \n",
    "grover(1)\n",
    "grover(2)\n",
    "grover(3)\n",
    "grover(4)"
   ]
  },
  {
   "cell_type": "markdown",
   "metadata": {},
   "source": [
    "最後に、解を見つけるために必要な$k$が量子ビット数についてどのように振る舞うか見てみる。"
   ]
  },
  {
   "cell_type": "code",
   "execution_count": null,
   "metadata": {},
   "outputs": [],
   "source": [
    "# FIXME 計算がうまくいかないため、コメントアウト\n",
    "\n",
    "result = []\n",
    "min_nqubits = 6\n",
    "max_nqubits = 16\n",
    "for nqubits in range(min_nqubits, max_nqubits+1, 2):\n",
    "    ## 回路の準備\n",
    "    Hadamard = make_Hadamard(nqubits)\n",
    "    U_w= make_U_w(nqubits)\n",
    "    U_s = make_U_s(nqubits)\n",
    "\n",
    "    ## 内積を評価するために 解状態 |1...1> を作っておく\n",
    "    target_state = QuantumState(nqubits)\n",
    "    target_state.set_computational_basis(2**nqubits-1) ## 2**n_qubits-1 は 2進数で 1...1\n",
    "\n",
    "    state = QuantumState(nqubits)\n",
    "    state.set_zero_state()\n",
    "    Hadamard.update_quantum_state(state)\n",
    "\n",
    "    ## 確率が減少を始めるまで U_s U_w をかける\n",
    "    tmp = 0\n",
    "    flag = 0\n",
    "    num_iter = 0\n",
    "    while flag == 0 and num_iter <= 1000:\n",
    "        num_iter += 1\n",
    "        U_w.update_quantum_state(state)\n",
    "        U_s.update_quantum_state(state)\n",
    "        suc_prob = np.linalg.norm(inner_product(state, target_state))\n",
    "        if tmp < suc_prob:\n",
    "            tmp = suc_prob\n",
    "        else:\n",
    "            flag = 1\n",
    "    result.append( [nqubits, num_iter, suc_prob] )\n",
    "    print(f\"nqubits={nqubits}, num_iter={num_iter}, suc_prob={suc_prob:5e}\")"
   ]
  },
  {
   "cell_type": "code",
   "execution_count": null,
   "metadata": {},
   "outputs": [],
   "source": [
    "result_array = np.array(result)\n",
    "\n",
    "plt.xlim(min_nqubits-1, max_nqubits+1)\n",
    "plt.xlabel(\"n, # of qubits\", fontsize=15)\n",
    "plt.ylabel(\"k, # of iteration\", fontsize=15)\n",
    "plt.semilogy(result_array[:,0], result_array[:,1], \"o-\", label=\"experiment\")\n",
    "plt.semilogy(result_array[:,0], 0.05*2**result_array[:,0], \"-\", label=r\"$\\propto N=2^n$\")\n",
    "plt.semilogy(result_array[:,0], 2**(0.5*result_array[:,0]), \"-\", label=r\"$\\propto \\sqrt{N}=2^{n/2}$\")\n",
    "plt.legend(fontsize=10)"
   ]
  },
  {
   "cell_type": "markdown",
   "metadata": {},
   "source": [
    "# 1量子ビットから10量子ビットまでの最適な回数\n",
    "1量子ビットから10量子ビットまでの最適な回数をグラフで表す。"
   ]
  },
  {
   "cell_type": "code",
   "execution_count": null,
   "metadata": {},
   "outputs": [],
   "source": [
    "from matplotlib.pyplot import tight_layout\n",
    "\n",
    "grover_Array = []\n",
    "fig = plt.figure(figsize=(8, 5))\n",
    "for i in range(1, 11):\n",
    "    plt.subplots(1, 1, tight_layout = True)\n",
    "    plt.subplots_adjust(wspace=0.5, hspace=0.5)\n",
    "    plt.title(f'grover nqubit={i}')\n",
    "\n",
    "    grover_i = grover(i)"
   ]
  },
  {
   "cell_type": "markdown",
   "metadata": {},
   "source": [
    "### 出力が理想的でないもの\n",
    "| 量子ビット数 |  理想値  | 実験値 |\n",
    "| :----------: |:-----:| :----: |\n",
    "| 3            |   2   | 6      |\n",
    "| 4            |   3   | 15     |\n",
    "| 7            |   8   | 26     |\n"
   ]
  },
  {
   "cell_type": "code",
   "execution_count": null,
   "metadata": {},
   "outputs": [],
   "source": [
    "ideal_nqubits_3 = estimate_the_optimal_number_of_times(3)\n",
    "ideal_nqubits_4 = estimate_the_optimal_number_of_times(4)\n",
    "ideal_nqubits_7 = estimate_the_optimal_number_of_times(7)\n",
    "\n",
    "print(f'3量子ビットの理想回数：{ideal_nqubits_3}')\n",
    "print(f'4量子ビットの理想回数：{ideal_nqubits_4}')\n",
    "print(f'7量子ビットの理想回数：{ideal_nqubits_7}')"
   ]
  },
  {
   "cell_type": "markdown",
   "metadata": {},
   "source": [
    " TODO:7量子ビットの場合、オラクルの理想回数は$k = 8$に見えるが、計算だと$k = 9$になる。\n",
    " "
   ]
  },
  {
   "cell_type": "markdown",
   "metadata": {},
   "source": [
    "### 疑問点\n",
    "- なぜ、理想値と実験値が異なるのか\n",
    "- 実験値の回数の方が解に最も近くなる。"
   ]
  },
  {
   "cell_type": "code",
   "execution_count": null,
   "metadata": {},
   "outputs": [],
   "source": [
    "# FIXME:関数化させる\n",
    "# 初期状態の準備\n",
    "nqubits = 3\n",
    "state = QuantumState(nqubits)\n",
    "state.set_zero_state()\n",
    "\n",
    "def make_Hadamard(nqubits):\n",
    "    Hadamard = QuantumCircuit(nqubits)\n",
    "    for i in range(nqubits):\n",
    "        Hadamard.add_gate(H(i))\n",
    "    return Hadamard\n",
    "\n",
    "Hadamard = make_Hadamard(nqubits)\n",
    "Hadamard.update_quantum_state(state)\n",
    "\n",
    "show_distribution(state, nqubits)"
   ]
  },
  {
   "cell_type": "code",
   "execution_count": null,
   "metadata": {},
   "outputs": [],
   "source": [
    "hoge = state.copy()\n",
    "U_w = make_U_w(nqubits)\n",
    "U_w.update_quantum_state(hoge)\n",
    "print(hoge.get_vector())"
   ]
  },
  {
   "cell_type": "code",
   "execution_count": null,
   "metadata": {},
   "outputs": [],
   "source": [
    "# 初期状態の準備\n",
    "state = QuantumState(nqubits)\n",
    "state.set_zero_state()\n",
    "Hadamard.update_quantum_state(state)\n",
    "\n",
    "# U_s, U_wを作用\n",
    "U_s = make_U_s(nqubits)\n",
    "U_w.update_quantum_state(state)\n",
    "U_s.update_quantum_state(state)\n",
    "# show_distribution(state, nqubits)"
   ]
  },
  {
   "cell_type": "code",
   "execution_count": null,
   "metadata": {},
   "outputs": [],
   "source": [
    "## 内積を評価するために、解状態|1...1>を作っておく\n",
    "target_state = QuantumState(nqubits)\n",
    "target_state.set_computational_basis(2 ** nqubits - 1) ## 2**n_qubits-1 は 2進数で 1...1\n",
    "\n",
    "## グローバーのアルゴリズムの実行\n",
    "state = QuantumState(nqubits)\n",
    "state.set_zero_state()\n",
    "\n",
    "Hadamard.update_quantum_state(state)\n",
    "\n",
    "for i in range(7):\n",
    "    U_w.update_quantum_state(state)\n",
    "    U_s.update_quantum_state(state)\n",
    "\n",
    "    print(f'{i + 1}回目') \n",
    "    print(np.linalg.norm(inner_product(state, target_state)))\n",
    "    show_distribution(state, nqubits)"
   ]
  },
  {
   "cell_type": "markdown",
   "metadata": {},
   "source": [
    "Q.より1に近づく回数を求めるにはどうすれば良いか？"
   ]
  },
  {
   "cell_type": "markdown",
   "metadata": {},
   "source": [
    "## 4量子ビットの時"
   ]
  },
  {
   "cell_type": "code",
   "execution_count": null,
   "metadata": {},
   "outputs": [],
   "source": [
    "# FIXME:関数化させる\n",
    "# 初期状態の準備\n",
    "nqubits = 4\n",
    "state = QuantumState(nqubits)\n",
    "state.set_zero_state()\n",
    "\n",
    "def make_Hadamard(nqubits):\n",
    "    Hadamard = QuantumCircuit(nqubits)\n",
    "    for i in range(nqubits):\n",
    "        Hadamard.add_gate(H(i))\n",
    "    return Hadamard\n",
    "\n",
    "Hadamard = make_Hadamard(nqubits)\n",
    "Hadamard.update_quantum_state(state)\n",
    "\n",
    "show_distribution(state, nqubits)"
   ]
  },
  {
   "cell_type": "code",
   "execution_count": null,
   "metadata": {},
   "outputs": [],
   "source": [
    "hoge = state.copy()\n",
    "U_w = make_U_w(nqubits)\n",
    "U_w.update_quantum_state(hoge)\n",
    "print(hoge.get_vector())"
   ]
  },
  {
   "cell_type": "code",
   "execution_count": null,
   "metadata": {},
   "outputs": [],
   "source": [
    "# 初期状態の準備\n",
    "state = QuantumState(nqubits)\n",
    "state.set_zero_state()\n",
    "Hadamard.update_quantum_state(state)\n",
    "\n",
    "# U_s, U_wを作用\n",
    "U_s = make_U_s(nqubits)\n",
    "U_w.update_quantum_state(state)\n",
    "U_s.update_quantum_state(state)\n",
    "# show_distribution(state, nqubits)"
   ]
  },
  {
   "cell_type": "code",
   "execution_count": null,
   "metadata": {},
   "outputs": [],
   "source": [
    "## 内積を評価するために、解状態|1...1>を作っておく\n",
    "target_state = QuantumState(nqubits)\n",
    "target_state.set_computational_basis(2 ** nqubits - 1) ## 2**n_qubits-1 は 2進数で 1...1\n",
    "\n",
    "## グローバーのアルゴリズムの実行\n",
    "state = QuantumState(nqubits)\n",
    "state.set_zero_state()\n",
    "\n",
    "Hadamard.update_quantum_state(state)\n",
    "\n",
    "for i in range(16):\n",
    "    U_w.update_quantum_state(state)\n",
    "    U_s.update_quantum_state(state)\n",
    "\n",
    "    print(f'{i + 1}回目') \n",
    "    print(np.linalg.norm(inner_product(state, target_state)))\n",
    "    show_distribution(state, nqubits)"
   ]
  },
  {
   "cell_type": "code",
   "execution_count": null,
   "metadata": {},
   "outputs": [],
   "source": []
  }
 ],
 "metadata": {
  "kernelspec": {
   "display_name": "Python 3 (ipykernel)",
   "language": "python",
   "name": "python3"
  },
  "language_info": {
   "codemirror_mode": {
    "name": "ipython",
    "version": 3
   },
   "file_extension": ".py",
   "mimetype": "text/x-python",
   "name": "python",
   "nbconvert_exporter": "python",
   "pygments_lexer": "ipython3",
   "version": "3.9.12"
  },
  "vscode": {
   "interpreter": {
    "hash": "88716b8d5fef344143e4b4e2b42aae91e370138b1896a947cc37e63fc49b8f39"
   }
  }
 },
 "nbformat": 4,
 "nbformat_minor": 2
}
